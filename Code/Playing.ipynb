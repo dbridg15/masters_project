{
 "cells": [
  {
   "cell_type": "code",
   "execution_count": 175,
   "metadata": {},
   "outputs": [
    {
     "name": "stdout",
     "output_type": "stream",
     "text": [
      "\n",
      " loading required packages\n",
      "\n"
     ]
    }
   ],
   "source": [
    "source(\"00_functions.R\")"
   ]
  },
  {
   "cell_type": "code",
   "execution_count": 176,
   "metadata": {},
   "outputs": [],
   "source": [
    "litter_df = read.csv(\"../Data/RAW/playing/Litterfall.csv\")\n",
    "finert_df = read.csv(\"../Data/RAW/playing/FineRoots.csv\")"
   ]
  },
  {
   "cell_type": "code",
   "execution_count": 177,
   "metadata": {},
   "outputs": [],
   "source": [
    "litter_df$dates   = as.Date(litter_df$Collection.date, format = \"%d/%m/%Y\")\n",
    "litter_df$plot    = gsub(\" \", \"\", litter_df$Plot)\n",
    "litter_df$subplot = litter_df$Trap"
   ]
  },
  {
   "cell_type": "code",
   "execution_count": 178,
   "metadata": {},
   "outputs": [],
   "source": [
    "# DEALING WITH THE DUPLICATE PLOT!?\n",
    "litter_df <- litter_df[!duplicated(litter_df[,c(\"dates\", \"plot\", \"subplot\")]), ]"
   ]
  },
  {
   "cell_type": "code",
   "execution_count": 179,
   "metadata": {},
   "outputs": [],
   "source": [
    "plts = as.character(unique(litter_df$plot))"
   ]
  },
  {
   "cell_type": "code",
   "execution_count": 180,
   "metadata": {
    "scrolled": true
   },
   "outputs": [],
   "source": [
    "census_df = data.frame(dates = NA, census = NA, plot = NA)\n",
    "\n",
    "for (i in plts){\n",
    "    tmp    = subset(litter_df, plot == i)\n",
    "    dates  = sort(unique(tmp$dates))\n",
    "    census =  paste0(\"c\", 1:length(dates))\n",
    "    tmp = data.frame(dates, census, plot = i)\n",
    "    census_df = rbind(tmp, census_df)\n",
    "}\n",
    "\n",
    "census_df = census_df[-nrow(census_df),]\n",
    "\n",
    "litter_df = merge(litter_df, census_df, by = c(\"dates\", \"plot\"))"
   ]
  },
  {
   "cell_type": "code",
   "execution_count": 181,
   "metadata": {},
   "outputs": [],
   "source": [
    "rownames(litter_df) = paste0(litter_df$plot, \"_\", litter_df$subplot, \"_\", litter_df$census)"
   ]
  },
  {
   "cell_type": "code",
   "execution_count": 183,
   "metadata": {},
   "outputs": [
    {
     "name": "stderr",
     "output_type": "stream",
     "text": [
      "Warning message in eval(expr, envir, enclos):\n",
      "“NAs introduced by coercion”Warning message in eval(expr, envir, enclos):\n",
      "“NAs introduced by coercion”Warning message in eval(expr, envir, enclos):\n",
      "“NAs introduced by coercion”Warning message in eval(expr, envir, enclos):\n",
      "“NAs introduced by coercion”Warning message in eval(expr, envir, enclos):\n",
      "“NAs introduced by coercion”Warning message in eval(expr, envir, enclos):\n",
      "“NAs introduced by coercion”"
     ]
    }
   ],
   "source": [
    "hv_df = litter_df[, c(\"Leaves..Mg.C.ha.1.year.1\", \"Twigs..Mg.C.ha.1.year.1\",\n",
    "                      \"Fruit..Mg.C.ha.1.year.1\", \"Flower..Mg.C.ha.1.year.1\", \"Seed..Mg.C.ha.1.year.1\",\n",
    "                     \"Miscellaneous..Mg.C.ha.1.year.1\", \"plot\", \"subplot\", \"census\")]\n",
    "colnames(hv_df) = c(\"leaves\", \"twigs\", \"fruit\", \"flower\", \"seed\", \"misc\", \"plot\", \"subplot\", \"census\")\n",
    "\n",
    "hv_df$leaves = as.numeric(levels(hv_df$leaves)[hv_df$leaves])\n",
    "hv_df$twigs = as.numeric(levels(hv_df$twigs)[hv_df$twigs])\n",
    "hv_df$fruit = as.numeric(levels(hv_df$fruit)[hv_df$fruit])\n",
    "hv_df$flower = as.numeric(levels(hv_df$flower)[hv_df$flower])\n",
    "hv_df$seed = as.numeric(levels(hv_df$seed)[hv_df$seed])\n",
    "hv_df$misc = as.numeric(levels(hv_df$misc)[hv_df$misc])\n",
    "hv_df[is.na(hv_df)] = 0"
   ]
  },
  {
   "cell_type": "code",
   "execution_count": 190,
   "metadata": {},
   "outputs": [
    {
     "name": "stdout",
     "output_type": "stream",
     "text": [
      "\n",
      "\r",
      "Building Hypervolume  1  of  583 :  BNorth_c1\r",
      "Building Hypervolume  2  of  583 :  BNorth_c2\r",
      "Building Hypervolume  3  of  583 :  BNorth_c3\r",
      "Building Hypervolume  4  of  583 :  BNorth_c4\r",
      "Building Hypervolume  5  of  583 :  BNorth_c5\r",
      "Building Hypervolume  6  of  583 :  BNorth_c6\r",
      "Building Hypervolume  7  of  583 :  BNorth_c7\r",
      "Building Hypervolume  8  of  583 :  BNorth_c8\r",
      "Building Hypervolume  9  of  583 :  BNorth_c9\r",
      "Building Hypervolume  10  of  583 :  BNorth_c10\r",
      "Building Hypervolume  11  of  583 :  BNorth_c11\r",
      "Building Hypervolume  12  of  583 :  BNorth_c12\r",
      "Building Hypervolume  13  of  583 :  BNorth_c13\r",
      "Building Hypervolume  14  of  583 :  BNorth_c14"
     ]
    },
    {
     "ename": "ERROR",
     "evalue": "Error in hypervolume_gaussian(tmp, name = i, verbose = FALSE): Bandwidth must be non-zero.\n",
     "output_type": "error",
     "traceback": [
      "Error in hypervolume_gaussian(tmp, name = i, verbose = FALSE): Bandwidth must be non-zero.\nTraceback:\n",
      "1. hvs_rslts(hv_df, axis = c(\"leaves\", \"twigs\", \"misc\"))",
      "2. hypervolume_gaussian(tmp, name = i, verbose = FALSE)",
      "3. stop(\"Bandwidth must be non-zero.\")"
     ]
    }
   ],
   "source": [
    "hvs_rslts(hv_df, axis = c(\"leaves\", \"twigs\", \"misc\"))"
   ]
  },
  {
   "cell_type": "code",
   "execution_count": 189,
   "metadata": {},
   "outputs": [],
   "source": [
    "df = scale_axis(hv_df, axis = c(\"leaves\", \"twigs\", \"misc\"))"
   ]
  },
  {
   "cell_type": "code",
   "execution_count": 191,
   "metadata": {},
   "outputs": [
    {
     "data": {
      "text/html": [
       "<table>\n",
       "<thead><tr><th></th><th scope=col>leaves</th><th scope=col>twigs</th><th scope=col>fruit</th><th scope=col>flower</th><th scope=col>seed</th><th scope=col>misc</th><th scope=col>plot</th><th scope=col>subplot</th><th scope=col>census</th></tr></thead>\n",
       "<tbody>\n",
       "\t<tr><th scope=row>BNorth_1_c14</th><td>3.0736842</td><td>0.3842105</td><td>0        </td><td>0.0000000</td><td>0        </td><td>0        </td><td>BNorth   </td><td> 1       </td><td>c14      </td></tr>\n",
       "\t<tr><th scope=row>BNorth_2_c14</th><td>1.8442105</td><td>0.8836842</td><td>0        </td><td>0.0000000</td><td>0        </td><td>0        </td><td>BNorth   </td><td> 2       </td><td>c14      </td></tr>\n",
       "\t<tr><th scope=row>BNorth_3_c14</th><td>0.6147368</td><td>0.0000000</td><td>0        </td><td>0.3842105</td><td>0        </td><td>0        </td><td>BNorth   </td><td> 3       </td><td>c14      </td></tr>\n",
       "\t<tr><th scope=row>BNorth_4_c14</th><td>4.2263158</td><td>0.5378947</td><td>0        </td><td>0.0000000</td><td>0        </td><td>0        </td><td>BNorth   </td><td> 4       </td><td>c14      </td></tr>\n",
       "\t<tr><th scope=row>BNorth_5_c14</th><td>0.3842105</td><td>0.0000000</td><td>0        </td><td>0.0000000</td><td>0        </td><td>0        </td><td>BNorth   </td><td> 5       </td><td>c14      </td></tr>\n",
       "\t<tr><th scope=row>BNorth_6_c14</th><td>3.2657895</td><td>0.0000000</td><td>0        </td><td>0.0000000</td><td>0        </td><td>0        </td><td>BNorth   </td><td> 6       </td><td>c14      </td></tr>\n",
       "\t<tr><th scope=row>BNorth_7_c14</th><td>2.7278947</td><td>0.6915789</td><td>0        </td><td>1.2678947</td><td>0        </td><td>0        </td><td>BNorth   </td><td> 7       </td><td>c14      </td></tr>\n",
       "\t<tr><th scope=row>BNorth_8_c14</th><td>1.7673684</td><td>0.0000000</td><td>0        </td><td>0.0000000</td><td>0        </td><td>0        </td><td>BNorth   </td><td> 8       </td><td>c14      </td></tr>\n",
       "\t<tr><th scope=row>BNorth_9_c14</th><td>2.6126316</td><td>0.1921053</td><td>0        </td><td>0.0000000</td><td>0        </td><td>0        </td><td>BNorth   </td><td> 9       </td><td>c14      </td></tr>\n",
       "\t<tr><th scope=row>BNorth_10_c14</th><td>3.4963158</td><td>2.9584211</td><td>0        </td><td>0.0000000</td><td>0        </td><td>0        </td><td>BNorth   </td><td>10       </td><td>c14      </td></tr>\n",
       "\t<tr><th scope=row>BNorth_11_c14</th><td>0.0000000</td><td>0.0000000</td><td>0        </td><td>0.0000000</td><td>0        </td><td>0        </td><td>BNorth   </td><td>11       </td><td>c14      </td></tr>\n",
       "\t<tr><th scope=row>BNorth_12_c14</th><td>1.4984211</td><td>0.0000000</td><td>0        </td><td>0.0000000</td><td>0        </td><td>0        </td><td>BNorth   </td><td>12       </td><td>c14      </td></tr>\n",
       "\t<tr><th scope=row>BNorth_13_c14</th><td>3.0352632</td><td>5.5710526</td><td>0        </td><td>0.0000000</td><td>0        </td><td>0        </td><td>BNorth   </td><td>13       </td><td>c14      </td></tr>\n",
       "\t<tr><th scope=row>BNorth_14_c14</th><td>3.9957895</td><td>0.4994737</td><td>0        </td><td>0.0000000</td><td>0        </td><td>0        </td><td>BNorth   </td><td>14       </td><td>c14      </td></tr>\n",
       "\t<tr><th scope=row>BNorth_15_c14</th><td>1.2678947</td><td>0.1921053</td><td>0        </td><td>0.8836842</td><td>0        </td><td>0        </td><td>BNorth   </td><td>15       </td><td>c14      </td></tr>\n",
       "\t<tr><th scope=row>BNorth_16_c14</th><td>0.0000000</td><td>0.0000000</td><td>0        </td><td>0.0000000</td><td>0        </td><td>0        </td><td>BNorth   </td><td>16       </td><td>c14      </td></tr>\n",
       "\t<tr><th scope=row>BNorth_17_c14</th><td>0.3842105</td><td>0.0000000</td><td>0        </td><td>0.0000000</td><td>0        </td><td>0        </td><td>BNorth   </td><td>17       </td><td>c14      </td></tr>\n",
       "\t<tr><th scope=row>BNorth_18_c14</th><td>1.4984211</td><td>0.4610526</td><td>0        </td><td>0.0000000</td><td>0        </td><td>0        </td><td>BNorth   </td><td>18       </td><td>c14      </td></tr>\n",
       "\t<tr><th scope=row>BNorth_19_c14</th><td>5.0331579</td><td>1.0757895</td><td>0        </td><td>0.0000000</td><td>0        </td><td>0        </td><td>BNorth   </td><td>19       </td><td>c14      </td></tr>\n",
       "\t<tr><th scope=row>BNorth_20_c14</th><td>4.6489474</td><td>0.0000000</td><td>0        </td><td>0.0000000</td><td>0        </td><td>0        </td><td>BNorth   </td><td>20       </td><td>c14      </td></tr>\n",
       "\t<tr><th scope=row>BNorth_21_c14</th><td>2.3052632</td><td>0.0000000</td><td>0        </td><td>0.0000000</td><td>0        </td><td>0        </td><td>BNorth   </td><td>21       </td><td>c14      </td></tr>\n",
       "\t<tr><th scope=row>BNorth_22_c14</th><td>2.4589474</td><td>0.0000000</td><td>0        </td><td>0.0000000</td><td>0        </td><td>0        </td><td>BNorth   </td><td>22       </td><td>c14      </td></tr>\n",
       "\t<tr><th scope=row>BNorth_23_c14</th><td>4.1878947</td><td>0.4994737</td><td>0        </td><td>0.0000000</td><td>0        </td><td>0        </td><td>BNorth   </td><td>23       </td><td>c14      </td></tr>\n",
       "\t<tr><th scope=row>BNorth_24_c14</th><td>4.0342105</td><td>0.0000000</td><td>0        </td><td>0.0000000</td><td>0        </td><td>0        </td><td>BNorth   </td><td>24       </td><td>c14      </td></tr>\n",
       "\t<tr><th scope=row>BNorth_25_c14</th><td>1.9210526</td><td>0.0000000</td><td>0        </td><td>0.0000000</td><td>0        </td><td>0        </td><td>BNorth   </td><td>25       </td><td>c14      </td></tr>\n",
       "</tbody>\n",
       "</table>\n"
      ],
      "text/latex": [
       "\\begin{tabular}{r|lllllllll}\n",
       "  & leaves & twigs & fruit & flower & seed & misc & plot & subplot & census\\\\\n",
       "\\hline\n",
       "\tBNorth\\_1\\_c14 & 3.0736842 & 0.3842105 & 0         & 0.0000000 & 0         & 0         & BNorth    &  1        & c14      \\\\\n",
       "\tBNorth\\_2\\_c14 & 1.8442105 & 0.8836842 & 0         & 0.0000000 & 0         & 0         & BNorth    &  2        & c14      \\\\\n",
       "\tBNorth\\_3\\_c14 & 0.6147368 & 0.0000000 & 0         & 0.3842105 & 0         & 0         & BNorth    &  3        & c14      \\\\\n",
       "\tBNorth\\_4\\_c14 & 4.2263158 & 0.5378947 & 0         & 0.0000000 & 0         & 0         & BNorth    &  4        & c14      \\\\\n",
       "\tBNorth\\_5\\_c14 & 0.3842105 & 0.0000000 & 0         & 0.0000000 & 0         & 0         & BNorth    &  5        & c14      \\\\\n",
       "\tBNorth\\_6\\_c14 & 3.2657895 & 0.0000000 & 0         & 0.0000000 & 0         & 0         & BNorth    &  6        & c14      \\\\\n",
       "\tBNorth\\_7\\_c14 & 2.7278947 & 0.6915789 & 0         & 1.2678947 & 0         & 0         & BNorth    &  7        & c14      \\\\\n",
       "\tBNorth\\_8\\_c14 & 1.7673684 & 0.0000000 & 0         & 0.0000000 & 0         & 0         & BNorth    &  8        & c14      \\\\\n",
       "\tBNorth\\_9\\_c14 & 2.6126316 & 0.1921053 & 0         & 0.0000000 & 0         & 0         & BNorth    &  9        & c14      \\\\\n",
       "\tBNorth\\_10\\_c14 & 3.4963158 & 2.9584211 & 0         & 0.0000000 & 0         & 0         & BNorth    & 10        & c14      \\\\\n",
       "\tBNorth\\_11\\_c14 & 0.0000000 & 0.0000000 & 0         & 0.0000000 & 0         & 0         & BNorth    & 11        & c14      \\\\\n",
       "\tBNorth\\_12\\_c14 & 1.4984211 & 0.0000000 & 0         & 0.0000000 & 0         & 0         & BNorth    & 12        & c14      \\\\\n",
       "\tBNorth\\_13\\_c14 & 3.0352632 & 5.5710526 & 0         & 0.0000000 & 0         & 0         & BNorth    & 13        & c14      \\\\\n",
       "\tBNorth\\_14\\_c14 & 3.9957895 & 0.4994737 & 0         & 0.0000000 & 0         & 0         & BNorth    & 14        & c14      \\\\\n",
       "\tBNorth\\_15\\_c14 & 1.2678947 & 0.1921053 & 0         & 0.8836842 & 0         & 0         & BNorth    & 15        & c14      \\\\\n",
       "\tBNorth\\_16\\_c14 & 0.0000000 & 0.0000000 & 0         & 0.0000000 & 0         & 0         & BNorth    & 16        & c14      \\\\\n",
       "\tBNorth\\_17\\_c14 & 0.3842105 & 0.0000000 & 0         & 0.0000000 & 0         & 0         & BNorth    & 17        & c14      \\\\\n",
       "\tBNorth\\_18\\_c14 & 1.4984211 & 0.4610526 & 0         & 0.0000000 & 0         & 0         & BNorth    & 18        & c14      \\\\\n",
       "\tBNorth\\_19\\_c14 & 5.0331579 & 1.0757895 & 0         & 0.0000000 & 0         & 0         & BNorth    & 19        & c14      \\\\\n",
       "\tBNorth\\_20\\_c14 & 4.6489474 & 0.0000000 & 0         & 0.0000000 & 0         & 0         & BNorth    & 20        & c14      \\\\\n",
       "\tBNorth\\_21\\_c14 & 2.3052632 & 0.0000000 & 0         & 0.0000000 & 0         & 0         & BNorth    & 21        & c14      \\\\\n",
       "\tBNorth\\_22\\_c14 & 2.4589474 & 0.0000000 & 0         & 0.0000000 & 0         & 0         & BNorth    & 22        & c14      \\\\\n",
       "\tBNorth\\_23\\_c14 & 4.1878947 & 0.4994737 & 0         & 0.0000000 & 0         & 0         & BNorth    & 23        & c14      \\\\\n",
       "\tBNorth\\_24\\_c14 & 4.0342105 & 0.0000000 & 0         & 0.0000000 & 0         & 0         & BNorth    & 24        & c14      \\\\\n",
       "\tBNorth\\_25\\_c14 & 1.9210526 & 0.0000000 & 0         & 0.0000000 & 0         & 0         & BNorth    & 25        & c14      \\\\\n",
       "\\end{tabular}\n"
      ],
      "text/markdown": [
       "\n",
       "| <!--/--> | leaves | twigs | fruit | flower | seed | misc | plot | subplot | census | \n",
       "|---|---|---|---|---|---|---|---|---|---|---|---|---|---|---|---|---|---|---|---|---|---|---|---|---|\n",
       "| BNorth_1_c14 | 3.0736842 | 0.3842105 | 0         | 0.0000000 | 0         | 0         | BNorth    |  1        | c14       | \n",
       "| BNorth_2_c14 | 1.8442105 | 0.8836842 | 0         | 0.0000000 | 0         | 0         | BNorth    |  2        | c14       | \n",
       "| BNorth_3_c14 | 0.6147368 | 0.0000000 | 0         | 0.3842105 | 0         | 0         | BNorth    |  3        | c14       | \n",
       "| BNorth_4_c14 | 4.2263158 | 0.5378947 | 0         | 0.0000000 | 0         | 0         | BNorth    |  4        | c14       | \n",
       "| BNorth_5_c14 | 0.3842105 | 0.0000000 | 0         | 0.0000000 | 0         | 0         | BNorth    |  5        | c14       | \n",
       "| BNorth_6_c14 | 3.2657895 | 0.0000000 | 0         | 0.0000000 | 0         | 0         | BNorth    |  6        | c14       | \n",
       "| BNorth_7_c14 | 2.7278947 | 0.6915789 | 0         | 1.2678947 | 0         | 0         | BNorth    |  7        | c14       | \n",
       "| BNorth_8_c14 | 1.7673684 | 0.0000000 | 0         | 0.0000000 | 0         | 0         | BNorth    |  8        | c14       | \n",
       "| BNorth_9_c14 | 2.6126316 | 0.1921053 | 0         | 0.0000000 | 0         | 0         | BNorth    |  9        | c14       | \n",
       "| BNorth_10_c14 | 3.4963158 | 2.9584211 | 0         | 0.0000000 | 0         | 0         | BNorth    | 10        | c14       | \n",
       "| BNorth_11_c14 | 0.0000000 | 0.0000000 | 0         | 0.0000000 | 0         | 0         | BNorth    | 11        | c14       | \n",
       "| BNorth_12_c14 | 1.4984211 | 0.0000000 | 0         | 0.0000000 | 0         | 0         | BNorth    | 12        | c14       | \n",
       "| BNorth_13_c14 | 3.0352632 | 5.5710526 | 0         | 0.0000000 | 0         | 0         | BNorth    | 13        | c14       | \n",
       "| BNorth_14_c14 | 3.9957895 | 0.4994737 | 0         | 0.0000000 | 0         | 0         | BNorth    | 14        | c14       | \n",
       "| BNorth_15_c14 | 1.2678947 | 0.1921053 | 0         | 0.8836842 | 0         | 0         | BNorth    | 15        | c14       | \n",
       "| BNorth_16_c14 | 0.0000000 | 0.0000000 | 0         | 0.0000000 | 0         | 0         | BNorth    | 16        | c14       | \n",
       "| BNorth_17_c14 | 0.3842105 | 0.0000000 | 0         | 0.0000000 | 0         | 0         | BNorth    | 17        | c14       | \n",
       "| BNorth_18_c14 | 1.4984211 | 0.4610526 | 0         | 0.0000000 | 0         | 0         | BNorth    | 18        | c14       | \n",
       "| BNorth_19_c14 | 5.0331579 | 1.0757895 | 0         | 0.0000000 | 0         | 0         | BNorth    | 19        | c14       | \n",
       "| BNorth_20_c14 | 4.6489474 | 0.0000000 | 0         | 0.0000000 | 0         | 0         | BNorth    | 20        | c14       | \n",
       "| BNorth_21_c14 | 2.3052632 | 0.0000000 | 0         | 0.0000000 | 0         | 0         | BNorth    | 21        | c14       | \n",
       "| BNorth_22_c14 | 2.4589474 | 0.0000000 | 0         | 0.0000000 | 0         | 0         | BNorth    | 22        | c14       | \n",
       "| BNorth_23_c14 | 4.1878947 | 0.4994737 | 0         | 0.0000000 | 0         | 0         | BNorth    | 23        | c14       | \n",
       "| BNorth_24_c14 | 4.0342105 | 0.0000000 | 0         | 0.0000000 | 0         | 0         | BNorth    | 24        | c14       | \n",
       "| BNorth_25_c14 | 1.9210526 | 0.0000000 | 0         | 0.0000000 | 0         | 0         | BNorth    | 25        | c14       | \n",
       "\n",
       "\n"
      ],
      "text/plain": [
       "              leaves    twigs     fruit flower    seed misc plot   subplot\n",
       "BNorth_1_c14  3.0736842 0.3842105 0     0.0000000 0    0    BNorth  1     \n",
       "BNorth_2_c14  1.8442105 0.8836842 0     0.0000000 0    0    BNorth  2     \n",
       "BNorth_3_c14  0.6147368 0.0000000 0     0.3842105 0    0    BNorth  3     \n",
       "BNorth_4_c14  4.2263158 0.5378947 0     0.0000000 0    0    BNorth  4     \n",
       "BNorth_5_c14  0.3842105 0.0000000 0     0.0000000 0    0    BNorth  5     \n",
       "BNorth_6_c14  3.2657895 0.0000000 0     0.0000000 0    0    BNorth  6     \n",
       "BNorth_7_c14  2.7278947 0.6915789 0     1.2678947 0    0    BNorth  7     \n",
       "BNorth_8_c14  1.7673684 0.0000000 0     0.0000000 0    0    BNorth  8     \n",
       "BNorth_9_c14  2.6126316 0.1921053 0     0.0000000 0    0    BNorth  9     \n",
       "BNorth_10_c14 3.4963158 2.9584211 0     0.0000000 0    0    BNorth 10     \n",
       "BNorth_11_c14 0.0000000 0.0000000 0     0.0000000 0    0    BNorth 11     \n",
       "BNorth_12_c14 1.4984211 0.0000000 0     0.0000000 0    0    BNorth 12     \n",
       "BNorth_13_c14 3.0352632 5.5710526 0     0.0000000 0    0    BNorth 13     \n",
       "BNorth_14_c14 3.9957895 0.4994737 0     0.0000000 0    0    BNorth 14     \n",
       "BNorth_15_c14 1.2678947 0.1921053 0     0.8836842 0    0    BNorth 15     \n",
       "BNorth_16_c14 0.0000000 0.0000000 0     0.0000000 0    0    BNorth 16     \n",
       "BNorth_17_c14 0.3842105 0.0000000 0     0.0000000 0    0    BNorth 17     \n",
       "BNorth_18_c14 1.4984211 0.4610526 0     0.0000000 0    0    BNorth 18     \n",
       "BNorth_19_c14 5.0331579 1.0757895 0     0.0000000 0    0    BNorth 19     \n",
       "BNorth_20_c14 4.6489474 0.0000000 0     0.0000000 0    0    BNorth 20     \n",
       "BNorth_21_c14 2.3052632 0.0000000 0     0.0000000 0    0    BNorth 21     \n",
       "BNorth_22_c14 2.4589474 0.0000000 0     0.0000000 0    0    BNorth 22     \n",
       "BNorth_23_c14 4.1878947 0.4994737 0     0.0000000 0    0    BNorth 23     \n",
       "BNorth_24_c14 4.0342105 0.0000000 0     0.0000000 0    0    BNorth 24     \n",
       "BNorth_25_c14 1.9210526 0.0000000 0     0.0000000 0    0    BNorth 25     \n",
       "              census\n",
       "BNorth_1_c14  c14   \n",
       "BNorth_2_c14  c14   \n",
       "BNorth_3_c14  c14   \n",
       "BNorth_4_c14  c14   \n",
       "BNorth_5_c14  c14   \n",
       "BNorth_6_c14  c14   \n",
       "BNorth_7_c14  c14   \n",
       "BNorth_8_c14  c14   \n",
       "BNorth_9_c14  c14   \n",
       "BNorth_10_c14 c14   \n",
       "BNorth_11_c14 c14   \n",
       "BNorth_12_c14 c14   \n",
       "BNorth_13_c14 c14   \n",
       "BNorth_14_c14 c14   \n",
       "BNorth_15_c14 c14   \n",
       "BNorth_16_c14 c14   \n",
       "BNorth_17_c14 c14   \n",
       "BNorth_18_c14 c14   \n",
       "BNorth_19_c14 c14   \n",
       "BNorth_20_c14 c14   \n",
       "BNorth_21_c14 c14   \n",
       "BNorth_22_c14 c14   \n",
       "BNorth_23_c14 c14   \n",
       "BNorth_24_c14 c14   \n",
       "BNorth_25_c14 c14   "
      ]
     },
     "metadata": {},
     "output_type": "display_data"
    }
   ],
   "source": [
    "subset(hv_df, plot == \"BNorth\" & census == \"c14\")"
   ]
  },
  {
   "cell_type": "code",
   "execution_count": null,
   "metadata": {},
   "outputs": [],
   "source": []
  }
 ],
 "metadata": {
  "kernelspec": {
   "display_name": "R",
   "language": "R",
   "name": "ir"
  },
  "language_info": {
   "codemirror_mode": "r",
   "file_extension": ".r",
   "mimetype": "text/x-r-source",
   "name": "R",
   "pygments_lexer": "r",
   "version": "3.4.4"
  }
 },
 "nbformat": 4,
 "nbformat_minor": 2
}
