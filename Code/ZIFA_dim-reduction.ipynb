{
 "cells": [
  {
   "cell_type": "code",
   "execution_count": 1,
   "metadata": {},
   "outputs": [],
   "source": [
    "from ZIFA import ZIFA\n",
    "\n",
    "import pandas as pd\n",
    "import numpy as np\n",
    "import math as math"
   ]
  },
  {
   "cell_type": "code",
   "execution_count": 2,
   "metadata": {},
   "outputs": [],
   "source": [
    "trees_df = pd.read_csv(\"../Results/trees_matrix.csv\", index_col = 0)\n",
    "mamls_df = pd.read_csv(\"../Results/m_trap-year.csv\", index_col = 0)\n",
    "btles_df = pd.read_csv(\"../Results/btles_matrix.csv\", index_col = 0)"
   ]
  },
  {
   "cell_type": "code",
   "execution_count": 3,
   "metadata": {},
   "outputs": [],
   "source": [
    "def ZIFA_data(df, k):\n",
    "    \n",
    "    df = df.applymap(lambda x: math.log2(1 + x))\n",
    "    ar = np.array(df)\n",
    "    \n",
    "    Z, model_params = ZIFA.fitModel(ar, k)\n",
    "    \n",
    "    Z  = pd.DataFrame(Z)\n",
    "    \n",
    "    Z.index = df.index\n",
    "    \n",
    "    b = []\n",
    "    for i in range(1, k+1):\n",
    "        b.append(\"Z%d\" % i)\n",
    "        \n",
    "    Z.columns = b\n",
    "    \n",
    "    return(Z, model_params)"
   ]
  },
  {
   "cell_type": "code",
   "execution_count": 4,
   "metadata": {},
   "outputs": [
    {
     "name": "stdout",
     "output_type": "stream",
     "text": [
      "Running zero-inflated factor analysis with N = 746, D = 666, K = 3\n",
      "Param change below threshold 1.000e-02 after 51 iterations\n",
      "Running zero-inflated factor analysis with N = 3083, D = 26, K = 3\n",
      "Param change below threshold 1.000e-02 after 24 iterations\n",
      "Running zero-inflated factor analysis with N = 1695, D = 58, K = 3\n",
      "Param change below threshold 1.000e-02 after 28 iterations\n"
     ]
    }
   ],
   "source": [
    "trees_zifa, trees_param = ZIFA_data(trees_df, 3)\n",
    "mamls_zifa, mamls_param = ZIFA_data(mamls_df, 3)\n",
    "btles_zifa, btles_param = ZIFA_data(btles_df, 3)"
   ]
  },
  {
   "cell_type": "code",
   "execution_count": 5,
   "metadata": {},
   "outputs": [],
   "source": [
    "trees_zifa.to_csv(\"../Results/trees_zifa.csv\")\n",
    "mamls_zifa.to_csv(\"../Results/mamls_zifa.csv\")\n",
    "btles_zifa.to_csv(\"../Results/btles_zifa.csv\")"
   ]
  }
 ],
 "metadata": {
  "kernelspec": {
   "display_name": "Python 3",
   "language": "python",
   "name": "python3"
  },
  "language_info": {
   "codemirror_mode": {
    "name": "ipython",
    "version": 3
   },
   "file_extension": ".py",
   "mimetype": "text/x-python",
   "name": "python",
   "nbconvert_exporter": "python",
   "pygments_lexer": "ipython3",
   "version": "3.6.5"
  }
 },
 "nbformat": 4,
 "nbformat_minor": 2
}
