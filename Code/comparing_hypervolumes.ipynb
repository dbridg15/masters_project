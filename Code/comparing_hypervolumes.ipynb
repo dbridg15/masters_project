{
 "cells": [
  {
   "cell_type": "markdown",
   "metadata": {},
   "source": [
    "# Using *N*-Dimensional Hypervolumes to Assess Ecosystem Stability"
   ]
  },
  {
   "cell_type": "code",
   "execution_count": 2,
   "metadata": {},
   "outputs": [
    {
     "name": "stdout",
     "output_type": "stream",
     "text": [
      "\n",
      " loading required packages\n",
      "\n"
     ]
    }
   ],
   "source": [
    "source(\"00_functions.R\")\n",
    "\n",
    "require(repr) # for ploting in jupyter\n",
    "options(repr.plot.width=8, repr.plot.height=5)\n",
    "set.seed(111)"
   ]
  },
  {
   "cell_type": "markdown",
   "metadata": {},
   "source": [
    "### read in data"
   ]
  },
  {
   "cell_type": "code",
   "execution_count": 3,
   "metadata": {},
   "outputs": [],
   "source": [
    "# abundance\n",
    "trees_df = read.csv(\"../Results/trees_matrix.csv\", row.names=1)\n",
    "#trees_df = read.csv(\"../Results/trees_genus_matrix.csv\", row.names=1)\n",
    "mamls_df = read.csv(\"../Results/m_trap-year.csv\", row.names=1)\n",
    "btles_df = read.csv(\"../Results/btles_matrix.csv\", row.names=1)\n",
    "\n",
    "\n",
    "# presence/absence\n",
    "#trees_df   = read.csv(\"../Results/trees_genus_matrix_PA.csv\", row.names=1)\n",
    "#mamls_df = read.csv(\"../Results/m_trap-year_PA.csv\", row.names=1)\n",
    "#btles_df = read.csv(\"../Results/btles_matrix_PA.csv\", row.names=1)\n",
    "\n",
    "###########################################################################\n",
    "\n",
    "# time between censuses\n",
    "trees_cen = read.csv(\"../Results/trees_census_dates.csv\")\n",
    "btles_cen = read.csv(\"../Results/btles_census_dates.csv\")\n",
    "mamls_cen = read.csv(\"../Results/mamls_years_dates.csv\")"
   ]
  },
  {
   "cell_type": "markdown",
   "metadata": {},
   "source": [
    "### pca on all subplot_census by species matrix"
   ]
  },
  {
   "cell_type": "code",
   "execution_count": 4,
   "metadata": {
    "scrolled": false
   },
   "outputs": [
    {
     "name": "stdout",
     "output_type": "stream",
     "text": [
      "Explained Varience Trees (first 3 PCs): 38.97859 %"
     ]
    },
    {
     "data": {
      "text/html": [
       "<dl class=dl-horizontal>\n",
       "\t<dt>PC1</dt>\n",
       "\t\t<dd>0.288887023005365</dd>\n",
       "\t<dt>PC2</dt>\n",
       "\t\t<dd>0.0565232692307022</dd>\n",
       "\t<dt>PC3</dt>\n",
       "\t\t<dd>0.0443755781978348</dd>\n",
       "\t<dt>PC4</dt>\n",
       "\t\t<dd>0.0374528016361283</dd>\n",
       "\t<dt>PC5</dt>\n",
       "\t\t<dd>0.0315799663901862</dd>\n",
       "</dl>\n"
      ],
      "text/latex": [
       "\\begin{description*}\n",
       "\\item[PC1] 0.288887023005365\n",
       "\\item[PC2] 0.0565232692307022\n",
       "\\item[PC3] 0.0443755781978348\n",
       "\\item[PC4] 0.0374528016361283\n",
       "\\item[PC5] 0.0315799663901862\n",
       "\\end{description*}\n"
      ],
      "text/markdown": [
       "PC1\n",
       ":   0.288887023005365PC2\n",
       ":   0.0565232692307022PC3\n",
       ":   0.0443755781978348PC4\n",
       ":   0.0374528016361283PC5\n",
       ":   0.0315799663901862\n",
       "\n"
      ],
      "text/plain": [
       "       PC1        PC2        PC3        PC4        PC5 \n",
       "0.28888702 0.05652327 0.04437558 0.03745280 0.03157997 "
      ]
     },
     "metadata": {},
     "output_type": "display_data"
    },
    {
     "name": "stdout",
     "output_type": "stream",
     "text": [
      "Explained Varience Mammals (first 3 PCs): 61.81098"
     ]
    },
    {
     "data": {
      "text/html": [
       "<dl class=dl-horizontal>\n",
       "\t<dt>PC1</dt>\n",
       "\t\t<dd>0.264406422810413</dd>\n",
       "\t<dt>PC2</dt>\n",
       "\t\t<dd>0.240313831607102</dd>\n",
       "\t<dt>PC3</dt>\n",
       "\t\t<dd>0.11338956123561</dd>\n",
       "\t<dt>PC4</dt>\n",
       "\t\t<dd>0.0820612740852783</dd>\n",
       "\t<dt>PC5</dt>\n",
       "\t\t<dd>0.0626213811894018</dd>\n",
       "</dl>\n"
      ],
      "text/latex": [
       "\\begin{description*}\n",
       "\\item[PC1] 0.264406422810413\n",
       "\\item[PC2] 0.240313831607102\n",
       "\\item[PC3] 0.11338956123561\n",
       "\\item[PC4] 0.0820612740852783\n",
       "\\item[PC5] 0.0626213811894018\n",
       "\\end{description*}\n"
      ],
      "text/markdown": [
       "PC1\n",
       ":   0.264406422810413PC2\n",
       ":   0.240313831607102PC3\n",
       ":   0.11338956123561PC4\n",
       ":   0.0820612740852783PC5\n",
       ":   0.0626213811894018\n",
       "\n"
      ],
      "text/plain": [
       "       PC1        PC2        PC3        PC4        PC5 \n",
       "0.26440642 0.24031383 0.11338956 0.08206127 0.06262138 "
      ]
     },
     "metadata": {},
     "output_type": "display_data"
    },
    {
     "name": "stdout",
     "output_type": "stream",
     "text": [
      "Explained Varience Beetles: (first 3 PCs) 97.79215"
     ]
    },
    {
     "data": {
      "text/html": [
       "<dl class=dl-horizontal>\n",
       "\t<dt>PC1</dt>\n",
       "\t\t<dd>0.883287689372081</dd>\n",
       "\t<dt>PC2</dt>\n",
       "\t\t<dd>0.0759027986829054</dd>\n",
       "\t<dt>PC3</dt>\n",
       "\t\t<dd>0.0187309902310277</dd>\n",
       "\t<dt>PC4</dt>\n",
       "\t\t<dd>0.00634400984191167</dd>\n",
       "\t<dt>PC5</dt>\n",
       "\t\t<dd>0.00427494061772922</dd>\n",
       "</dl>\n"
      ],
      "text/latex": [
       "\\begin{description*}\n",
       "\\item[PC1] 0.883287689372081\n",
       "\\item[PC2] 0.0759027986829054\n",
       "\\item[PC3] 0.0187309902310277\n",
       "\\item[PC4] 0.00634400984191167\n",
       "\\item[PC5] 0.00427494061772922\n",
       "\\end{description*}\n"
      ],
      "text/markdown": [
       "PC1\n",
       ":   0.883287689372081PC2\n",
       ":   0.0759027986829054PC3\n",
       ":   0.0187309902310277PC4\n",
       ":   0.00634400984191167PC5\n",
       ":   0.00427494061772922\n",
       "\n"
      ],
      "text/plain": [
       "        PC1         PC2         PC3         PC4         PC5 \n",
       "0.883287689 0.075902799 0.018730990 0.006344010 0.004274941 "
      ]
     },
     "metadata": {},
     "output_type": "display_data"
    }
   ],
   "source": [
    "scale = F\n",
    "\n",
    "trees_pca = do_pca(trees_df, scale = scale, plot = F)\n",
    "mamls_pca = do_pca(mamls_df, scale = scale, plot = F)\n",
    "btles_pca = do_pca(btles_df, scale = scale, plot = F)\n",
    "\n",
    "cat(\"Explained Varience Trees (first 3 PCs):\", sum(trees_pca@exp.var[0:3])*100)\n",
    "trees_pca@exp.var[0:5]\n",
    "cat(\"Explained Varience Mammals (first 3 PCs):\", sum(mamls_pca@exp.var[0:3])*100)\n",
    "mamls_pca@exp.var[0:5]\n",
    "cat(\"Explained Varience Beetles: (first 3 PCs)\", sum(btles_pca@exp.var[0:3])*100)\n",
    "btles_pca@exp.var[0:5]"
   ]
  },
  {
   "cell_type": "markdown",
   "metadata": {},
   "source": [
    "##### Could use Nonmetric Multidimensional Scaling\n",
    "Commented out because its really slow"
   ]
  },
  {
   "cell_type": "code",
   "execution_count": 4,
   "metadata": {},
   "outputs": [],
   "source": [
    "#trees_mds = metaMDS(trees_df, k = 3)\n",
    "#btles_mds = metaMDS(btles_df, k = 3)\n",
    "#mamls_mds = metaMDS(mamls_df[rowSums(mamls_df) > 0, ], k = 3)\n",
    "\n",
    "#trees_mds_out = add_cols(as.data.frame(trees_mds$points))\n",
    "#mamls_mds_out = add_cols(as.data.frame(mamls_mds$points))\n",
    "#btles_mds_out = add_cols(as.data.frame(btles_mds$points))"
   ]
  },
  {
   "cell_type": "markdown",
   "metadata": {},
   "source": [
    "##### Came accross ZIFA but didn't have time to understand it"
   ]
  },
  {
   "cell_type": "code",
   "execution_count": 5,
   "metadata": {},
   "outputs": [],
   "source": [
    "#trees_zifa = read.csv(\"../Results/trees_zifa.csv\", row.names = 1)\n",
    "#mamls_zifa = read.csv(\"../Results/mamls_zifa.csv\", row.names = 1)\n",
    "#btles_zifa = read.csv(\"../Results/btles_zifa.csv\", row.names = 1)\n",
    "\n",
    "#trees_zifa = add_cols(trees_zifa)\n",
    "#mamls_zifa = add_cols(mamls_zifa)\n",
    "#btles_zifa = add_cols(btles_zifa)"
   ]
  },
  {
   "cell_type": "markdown",
   "metadata": {},
   "source": [
    "### construct hyervolumes"
   ]
  },
  {
   "cell_type": "markdown",
   "metadata": {},
   "source": [
    "#### from pca"
   ]
  },
  {
   "cell_type": "code",
   "execution_count": 6,
   "metadata": {},
   "outputs": [],
   "source": [
    "trees_hvs_p = hvs_rslts(trees_pca@axis, axis = c(\"PC1\", \"PC2\", \"PC3\"), \"seq\", trees_cen, method = \"gaussian\")\n",
    "mamls_hvs_p = hvs_rslts(mamls_pca@axis, axis = c(\"PC1\", \"PC2\", \"PC3\"), \"seq\", mamls_cen, method = \"gaussian\")\n",
    "btles_hvs_p = hvs_rslts(btles_pca@axis, axis = c(\"PC1\", \"PC2\", \"PC3\"), \"seq\", btles_cen, method = \"gaussian\")\n",
    "\n",
    "# cat(\"\\n\\n\")\n",
    "# cat(\"Trees: \",   sum(is.na(hvs.rslts_trees@rslts$centroid_PC1))/nrow(hvs.rslts_trees@rslts), \"\\n\")\n",
    "# cat(\"Mammals: \", sum(is.na(hvs.rslts_mammals@rslts$centroid_PC1))/nrow(hvs.rslts_mammals@rslts), \"\\n\")\n",
    "# cat(\"Beetles: \", sum(is.na(hvs.rslts_beetles@rslts$centroid_PC1))/nrow(hvs.rslts_beetles@rslts))"
   ]
  },
  {
   "cell_type": "markdown",
   "metadata": {},
   "source": [
    "#### from nmds"
   ]
  },
  {
   "cell_type": "code",
   "execution_count": null,
   "metadata": {},
   "outputs": [],
   "source": [
    "#trees_hvs = hvs_rslts(trees_mds_out, axis = c(\"MDS1\", \"MDS2\", \"MDS3\"), \"seq\", trees_cen, method = \"gaussian\")\n",
    "#mamls_hvs = hvs_rslts(mamls_mds_out, axis = c(\"MDS1\", \"MDS2\", \"MDS3\"), \"seq\", mamls_cen, method = \"gaussian\")\n",
    "#btles_hvs = hvs_rslts(btles_mds_out, axis = c(\"MDS1\", \"MDS2\", \"MDS3\"), \"seq\", btles_cen, method = \"gaussian\")"
   ]
  },
  {
   "cell_type": "markdown",
   "metadata": {},
   "source": [
    "#### from ZIFA"
   ]
  },
  {
   "cell_type": "code",
   "execution_count": null,
   "metadata": {},
   "outputs": [],
   "source": [
    "#trees_hvs_z = hvs_rslts(trees_zifa, axis = c(\"Z1\", \"Z2\", \"Z3\"), \"seq\", trees_cen, method = \"gaussian\")\n",
    "#mamls_hvs_z = hvs_rslts(mamls_zifa, axis = c(\"Z1\", \"Z2\", \"Z3\"), \"seq\", mamls_cen, method = \"gaussian\")\n",
    "#btles_hvs_z = hvs_rslts(btles_zifa, axis = c(\"Z1\", \"Z2\", \"Z3\"), \"seq\", btles_cen, method = \"gaussian\")"
   ]
  },
  {
   "cell_type": "markdown",
   "metadata": {},
   "source": [
    "### plot hypervolumes"
   ]
  },
  {
   "cell_type": "code",
   "execution_count": 6,
   "metadata": {},
   "outputs": [
    {
     "ename": "ERROR",
     "evalue": "Error in strsplit(names(hvs.rslts@hvlist), \"_\"): object 'btles_hvs_p' not found\n",
     "output_type": "error",
     "traceback": [
      "Error in strsplit(names(hvs.rslts@hvlist), \"_\"): object 'btles_hvs_p' not found\nTraceback:\n",
      "1. plot_hvs(btles_hvs_p, \"D\")",
      "2. which(unlist(strsplit(names(hvs.rslts@hvlist), \"_\"))[c(T, F)] == \n .     plt)   # at line 4 of file <text>",
      "3. unlist(strsplit(names(hvs.rslts@hvlist), \"_\"))   # at line 4 of file <text>",
      "4. strsplit(names(hvs.rslts@hvlist), \"_\")   # at line 4 of file <text>"
     ]
    }
   ],
   "source": [
    "plot_hvs(btles_hvs_p, \"D\")"
   ]
  },
  {
   "cell_type": "markdown",
   "metadata": {},
   "source": [
    "### compare hypervolumes"
   ]
  },
  {
   "cell_type": "code",
   "execution_count": null,
   "metadata": {},
   "outputs": [],
   "source": [
    "kind = \"pca\"  # \"zifa\""
   ]
  },
  {
   "cell_type": "code",
   "execution_count": null,
   "metadata": {},
   "outputs": [],
   "source": [
    "# set up dataframe for plotting\n",
    "trees_agb = read.csv(\"../Results/trees_agb.csv\")\n",
    "btles_agb = read.csv(\"../Results/btles_agb.csv\")\n",
    "mamls_agb = read.csv(\"../Results/mamls_agb.csv\")\n",
    "\n",
    "if(kind == \"pca\"){\n",
    "    btles = btles_hvs_p@compare\n",
    "    trees = trees_hvs_p@compare\n",
    "    mamls = mamls_hvs_p@compare\n",
    "    } else if (kind == \"zifa\"){\n",
    "    btles = btles_hvs_z@compare\n",
    "    trees = trees_hvs_z@compare\n",
    "    mamls = mamls_hvs_z@compare\n",
    "    } else {cat(\"kind not defined\")}\n",
    "\n",
    "    \n",
    "btles$taxa = \"Beetles\"\n",
    "colnames(btles_agb) = c(\"plot\", \"agb\")\n",
    "btles = merge(btles, btles_agb, by = \"plot\")\n",
    "\n",
    "trees$taxa = \"Trees\"\n",
    "colnames(trees_agb) = c(\"plot\", \"agb\")\n",
    "trees = merge(trees, trees_agb, by = \"plot\")\n",
    "\n",
    "mamls$taxa = \"Mammals\"\n",
    "colnames(mamls_agb) = c(\"plot\", \"agb\")\n",
    "mamls = merge(mamls, mamls_agb, by = \"plot\")\n",
    "\n",
    "ovlp = rbind(trees, btles, mamls)\n",
    "ovlp = ovlp[complete.cases(ovlp), ]\n",
    "ovlp$taxa = as.factor(ovlp$taxa)\n",
    "\n",
    "ovlp$agb = ovlp$agb*16\n",
    "ovlp$logagb = log(ovlp$agb)"
   ]
  },
  {
   "cell_type": "code",
   "execution_count": null,
   "metadata": {
    "scrolled": false
   },
   "outputs": [],
   "source": [
    "# boxplot\n",
    "plt = ggplot(data = ovlp, aes(x = taxa, y = overlap, color = taxa, shape = taxa))\n",
    "plt = plt + geom_boxplot()\n",
    "plt = plt + geom_point(alpha = 0.5)\n",
    "plt = plt + scale_color_brewer(palette = \"Set2\")\n",
    "plt = plt + theme_classic()\n",
    "plt = plt + ggtitle(kind)\n",
    "print(plt)"
   ]
  },
  {
   "cell_type": "code",
   "execution_count": null,
   "metadata": {},
   "outputs": [],
   "source": [
    "fit = aov(overlap ~ taxa, data = ovlp)\n",
    "summary(fit)\n",
    "TukeyHSD(fit)"
   ]
  },
  {
   "cell_type": "code",
   "execution_count": null,
   "metadata": {},
   "outputs": [],
   "source": [
    "# overlap by agb\n",
    "plt = ggplot(data = ovlp, aes(x = agb, y = overlap, color = taxa, shape = taxa))\n",
    "plt = plt + geom_point() \n",
    "plt = plt + geom_smooth(method = 'lm', se = F)\n",
    "plt = plt + scale_color_brewer(palette = \"Set2\")\n",
    "plt = plt + theme_classic()\n",
    "plt = plt + ggtitle(kind)\n",
    "#print(plt)"
   ]
  },
  {
   "cell_type": "code",
   "execution_count": null,
   "metadata": {},
   "outputs": [],
   "source": [
    "# overlap by log(agb)\n",
    "plt = ggplot(data = ovlp, aes(x = logagb, y = overlap, color = taxa, shape = taxa))\n",
    "plt = plt + geom_point()\n",
    "plt = plt + geom_smooth(method = 'lm', se = F)\n",
    "plt = plt + scale_color_brewer(palette = \"Set2\")\n",
    "plt = plt + theme_classic()\n",
    "plt = plt + ggtitle(kind)\n",
    "print(plt)"
   ]
  },
  {
   "cell_type": "code",
   "execution_count": 130,
   "metadata": {},
   "outputs": [
    {
     "data": {
      "text/plain": [
       "            Df Sum Sq Mean Sq F value Pr(>F)    \n",
       "logagb       1  0.049  0.0492   3.043 0.0865 .  \n",
       "taxa         2  5.026  2.5128 155.439 <2e-16 ***\n",
       "logagb:taxa  2  0.066  0.0332   2.053 0.1377    \n",
       "Residuals   57  0.921  0.0162                   \n",
       "---\n",
       "Signif. codes:  0 ‘***’ 0.001 ‘**’ 0.01 ‘*’ 0.05 ‘.’ 0.1 ‘ ’ 1"
      ]
     },
     "metadata": {},
     "output_type": "display_data"
    }
   ],
   "source": [
    "# model\n",
    "model = aov(overlap ~ logagb*taxa, data = ovlp)\n",
    "summary(model)\n",
    "#plot(model)"
   ]
  },
  {
   "cell_type": "code",
   "execution_count": 126,
   "metadata": {},
   "outputs": [],
   "source": [
    "trees_mdl = lm(overlap ~ logagb, data = subset(ovlp, taxa == \"Trees\"))\n",
    "mamls_mdl = lm(overlap ~ logagb, data = subset(ovlp, taxa == \"Mammals\"))\n",
    "btles_mdl = lm(overlap ~ logagb, data = subset(ovlp, taxa == \"Beetles\"))"
   ]
  },
  {
   "cell_type": "code",
   "execution_count": 128,
   "metadata": {},
   "outputs": [
    {
     "data": {
      "text/plain": [
       "\n",
       "Call:\n",
       "lm(formula = overlap ~ logagb, data = subset(ovlp, taxa == \"Trees\"))\n",
       "\n",
       "Residuals:\n",
       "     Min       1Q   Median       3Q      Max \n",
       "-0.32610 -0.03454  0.03850  0.07803  0.18200 \n",
       "\n",
       "Coefficients:\n",
       "            Estimate Std. Error t value Pr(>|t|)   \n",
       "(Intercept)  0.50796    0.14426   3.521  0.00228 **\n",
       "logagb       0.06218    0.03293   1.888  0.07439 . \n",
       "---\n",
       "Signif. codes:  0 ‘***’ 0.001 ‘**’ 0.01 ‘*’ 0.05 ‘.’ 0.1 ‘ ’ 1\n",
       "\n",
       "Residual standard error: 0.1208 on 19 degrees of freedom\n",
       "Multiple R-squared:  0.158,\tAdjusted R-squared:  0.1137 \n",
       "F-statistic: 3.565 on 1 and 19 DF,  p-value: 0.07439\n"
      ]
     },
     "metadata": {},
     "output_type": "display_data"
    }
   ],
   "source": [
    "summary(trees_mdl)"
   ]
  },
  {
   "cell_type": "markdown",
   "metadata": {},
   "source": [
    "## Spatial/Temporal Stabiltiy"
   ]
  },
  {
   "cell_type": "code",
   "execution_count": 7,
   "metadata": {},
   "outputs": [],
   "source": [
    "# readin and sort data\n",
    "trees_df = read.csv(\"../Results/trees_matrix.csv\", row.names=1)\n",
    "mamls_df = read.csv(\"../Results/m_trap-year.csv\", row.names=1)\n",
    "btles_df = read.csv(\"../Results/btles_matrix.csv\", row.names=1)\n",
    "\n",
    "trees_df = add_cols(trees_df)\n",
    "mamls_df = add_cols(mamls_df)\n",
    "btles_df = add_cols(btles_df)\n",
    "\n",
    "trees = melt(trees_df, id.vars=c(\"plot\", \"subplot\", \"census\"))\n",
    "mamls = melt(mamls_df, id.vars=c(\"plot\", \"subplot\", \"census\"))\n",
    "btles = melt(btles_df, id.vars=c(\"plot\", \"subplot\", \"census\"))"
   ]
  },
  {
   "cell_type": "code",
   "execution_count": 8,
   "metadata": {},
   "outputs": [],
   "source": [
    "# calculate spatial stability\n",
    "trees_stb = spatial_stability(trees)\n",
    "mamls_stb = spatial_stability(mamls)\n",
    "btles_stb = spatial_stability(btles)\n",
    "\n",
    "trees_stb$taxa = \"Trees\"\n",
    "mamls_stb$taxa = \"Mammals\"\n",
    "btles_stb$taxa = \"Beetles\"\n",
    "\n",
    "trees_stb$plot = unlist(strsplit(trees_stb$census, \"_\"))[ c(T,F)]\n",
    "mamls_stb$plot = unlist(strsplit(mamls_stb$census, \"_\"))[ c(T,F)]\n",
    "btles_stb$plot = unlist(strsplit(btles_stb$census, \"_\"))[ c(T,F)]"
   ]
  },
  {
   "cell_type": "code",
   "execution_count": 91,
   "metadata": {},
   "outputs": [],
   "source": [
    "trees_tstb = temporal_stability(trees)\n",
    "mamls_tstb = temporal_stability(mamls)\n",
    "btles_tstb = temporal_stability(btles)\n",
    "\n",
    "trees_tstb$taxa = \"Trees\"\n",
    "mamls_tstb$taxa = \"Mammals\"\n",
    "btles_tstb$taxa = \"Beetles\""
   ]
  },
  {
   "cell_type": "code",
   "execution_count": 92,
   "metadata": {},
   "outputs": [],
   "source": [
    " #merge with agb\n",
    "trees_agb = read.csv(\"../Results/trees_agb.csv\")\n",
    "btles_agb = read.csv(\"../Results/btles_agb.csv\")\n",
    "mamls_agb = read.csv(\"../Results/mamls_agb.csv\")\n",
    "\n",
    "colnames(trees_agb) = c(\"plot\", \"agb\")\n",
    "colnames(mamls_agb) = c(\"plot\", \"agb\")\n",
    "colnames(btles_agb) = c(\"plot\", \"agb\")\n",
    "\n",
    "trees_stb = merge(trees_stb, trees_agb, by = \"plot\")\n",
    "mamls_stb = merge(mamls_stb, mamls_agb, by = \"plot\")\n",
    "btles_stb = merge(btles_stb, btles_agb, by = \"plot\")\n",
    "\n",
    "trees_tstb = merge(trees_tstb, trees_agb, by = \"plot\")\n",
    "mamls_tstb = merge(mamls_tstb, mamls_agb, by = \"plot\")\n",
    "btles_tstb = merge(btles_tstb, btles_agb, by = \"plot\")"
   ]
  },
  {
   "cell_type": "code",
   "execution_count": 25,
   "metadata": {},
   "outputs": [],
   "source": [
    "# setup dataframe for plotting\n",
    "stab = rbind(trees_stb, btles_stb, mamls_stb)\n",
    "stab = stab[complete.cases(stab), ]\n",
    "stab$taxa = as.factor(stab$taxa)\n",
    "\n",
    "stab$agb = stab$agb*16\n",
    "stab$logagb = log(stab$agb)"
   ]
  },
  {
   "cell_type": "code",
   "execution_count": 141,
   "metadata": {},
   "outputs": [],
   "source": [
    "# setup dataframe for plotting\n",
    "stab = rbind(trees_tstb, btles_tstb, mamls_tstb)\n",
    "stab = stab[complete.cases(stab), ]\n",
    "stab$taxa = as.factor(stab$taxa)\n",
    "\n",
    "stab$agb = stab$agb*16\n",
    "stab$logagb = log(stab$agb)\n",
    "stab$stability = log(stab$stability)"
   ]
  },
  {
   "cell_type": "code",
   "execution_count": 142,
   "metadata": {},
   "outputs": [
    {
     "data": {
      "image/png": "[encoded data removed]",
      "text/plain": [
       "plot without title"
      ]
     },
     "metadata": {},
     "output_type": "display_data"
    }
   ],
   "source": [
    "# boxplot\n",
    "plt = ggplot(data = stab, aes(x = taxa, y = stability, color = taxa))\n",
    "plt = plt + geom_boxplot()\n",
    "plt = plt + geom_point(alpha = 0.5)\n",
    "plt = plt = plt + scale_color_brewer(palette = \"Set2\")\n",
    "plt = plt + theme_classic()\n",
    "plt = plt + ggtitle(\"spatial stabilty\")\n",
    "print(plt)"
   ]
  },
  {
   "cell_type": "code",
   "execution_count": 166,
   "metadata": {},
   "outputs": [
    {
     "data": {
      "text/plain": [
       "            Df Sum Sq Mean Sq F value   Pr(>F)    \n",
       "taxa         2  61.64  30.820   46.79 1.68e-09 ***\n",
       "Residuals   27  17.79   0.659                     \n",
       "---\n",
       "Signif. codes:  0 ‘***’ 0.001 ‘**’ 0.01 ‘*’ 0.05 ‘.’ 0.1 ‘ ’ 1"
      ]
     },
     "metadata": {},
     "output_type": "display_data"
    },
    {
     "data": {
      "text/plain": [
       "  Tukey multiple comparisons of means\n",
       "    95% family-wise confidence level\n",
       "\n",
       "Fit: aov(formula = stability ~ taxa, data = stab)\n",
       "\n",
       "$taxa\n",
       "                      diff       lwr      upr     p adj\n",
       "Mammals-Beetles -0.1062388 -1.224541 1.012064 0.9699119\n",
       "Trees-Beetles    3.1068039  2.277249 3.936359 0.0000000\n",
       "Trees-Mammals    3.2130426  2.003769 4.422316 0.0000013\n"
      ]
     },
     "metadata": {},
     "output_type": "display_data"
    }
   ],
   "source": [
    "fit = aov(stability ~ taxa, data = stab)\n",
    "summary(fit)\n",
    "TukeyHSD(fit)"
   ]
  },
  {
   "cell_type": "code",
   "execution_count": 143,
   "metadata": {},
   "outputs": [],
   "source": [
    "# stability by agb\n",
    "plt = ggplot(data = stab, aes(x = agb, y = stability, color = taxa, shape = taxa))\n",
    "plt = plt + geom_point() \n",
    "plt = plt + geom_smooth(method = 'lm', se = F)\n",
    "plt = plt + scale_color_brewer(palette = \"Set2\")\n",
    "plt = plt + theme_classic()\n",
    "plt = plt + ggtitle(\"spatial stability\")\n",
    "#print(plt)"
   ]
  },
  {
   "cell_type": "code",
   "execution_count": 144,
   "metadata": {},
   "outputs": [
    {
     "data": {
      "image/png": "[encoded data removed]",
      "text/plain": [
       "plot without title"
      ]
     },
     "metadata": {},
     "output_type": "display_data"
    }
   ],
   "source": [
    "# stabiluty by log(agb)\n",
    "plt = ggplot(data = stab, aes(x = logagb, y = stability, color = taxa, shape = taxa))\n",
    "plt = plt + geom_point() \n",
    "plt = plt + geom_smooth(method = 'lm', se = F)\n",
    "plt = plt + scale_color_brewer(palette = \"Set2\")\n",
    "plt = plt + theme_classic()\n",
    "plt = plt + ggtitle(\"spatial stability\")\n",
    "print(plt)"
   ]
  },
  {
   "cell_type": "code",
   "execution_count": 167,
   "metadata": {},
   "outputs": [
    {
     "data": {
      "text/plain": [
       "            Df Sum Sq Mean Sq F value   Pr(>F)    \n",
       "logagb       1   6.31   6.306  13.063  0.00139 ** \n",
       "taxa         2  57.09  28.545  59.133 5.31e-10 ***\n",
       "logagb:taxa  2   4.45   2.223   4.605  0.02030 *  \n",
       "Residuals   24  11.59   0.483                     \n",
       "---\n",
       "Signif. codes:  0 ‘***’ 0.001 ‘**’ 0.01 ‘*’ 0.05 ‘.’ 0.1 ‘ ’ 1"
      ]
     },
     "metadata": {},
     "output_type": "display_data"
    }
   ],
   "source": [
    "# model\n",
    "model = aov(stability ~ logagb*taxa, data = stab)\n",
    "summary(model)\n",
    "\n",
    "trees_mdl = lm(stability ~ logagb, data = subset(stab, taxa == \"Trees\"))\n",
    "mamls_mdl = lm(stability ~ logagb, data = subset(stab, taxa == \"Mammals\"))\n",
    "btles_mdl = lm(stability ~ logagb, data = subset(stab, taxa == \"Beetles\"))"
   ]
  },
  {
   "cell_type": "code",
   "execution_count": 165,
   "metadata": {},
   "outputs": [
    {
     "data": {
      "text/plain": [
       "\n",
       "Call:\n",
       "lm(formula = stability ~ logagb, data = subset(stab, taxa == \n",
       "    \"Trees\"))\n",
       "\n",
       "Residuals:\n",
       "     Min       1Q   Median       3Q      Max \n",
       "-0.94582 -0.64936 -0.06509  0.21871  1.91303 \n",
       "\n",
       "Coefficients:\n",
       "            Estimate Std. Error t value Pr(>|t|)  \n",
       "(Intercept)  -0.6587     1.7343  -0.380   0.7154  \n",
       "logagb        0.9962     0.3776   2.638   0.0335 *\n",
       "---\n",
       "Signif. codes:  0 ‘***’ 0.001 ‘**’ 0.01 ‘*’ 0.05 ‘.’ 0.1 ‘ ’ 1\n",
       "\n",
       "Residual standard error: 0.923 on 7 degrees of freedom\n",
       "Multiple R-squared:  0.4986,\tAdjusted R-squared:  0.4269 \n",
       "F-statistic:  6.96 on 1 and 7 DF,  p-value: 0.03351\n"
      ]
     },
     "metadata": {},
     "output_type": "display_data"
    }
   ],
   "source": [
    "summary(trees_mdl)"
   ]
  },
  {
   "cell_type": "markdown",
   "metadata": {},
   "source": [
    "## hypervolumes vs spatial stabiltiy"
   ]
  },
  {
   "cell_type": "code",
   "execution_count": 106,
   "metadata": {},
   "outputs": [],
   "source": [
    "a = ovlp %>% \n",
    "    group_by(plot, taxa) %>% summarise(overlap = mean(overlap))\n",
    "\n",
    "b = stab %>% \n",
    "    group_by(plot, taxa) %>% summarise(stability = mean(stability))\n",
    "\n",
    "c = merge(a, b, by = c(\"plot\", \"taxa\"))"
   ]
  },
  {
   "cell_type": "code",
   "execution_count": 146,
   "metadata": {},
   "outputs": [
    {
     "data": {
      "image/png": "[encoded data removed]",
      "text/plain": [
       "plot without title"
      ]
     },
     "metadata": {},
     "output_type": "display_data"
    }
   ],
   "source": [
    "plt = ggplot(data = c, aes(x = overlap, y = stability, color = taxa, shape = taxa))\n",
    "plt = plt + geom_point()\n",
    "plt = plt + theme_classic()\n",
    "plt = plt + xlab(\"Hypervolume Overlap\") + ylab(\"log(Community Temporal Stability)\")\n",
    "plt = plt + theme(legend.title = element_blank(), legend.position = \"bottom\")\n",
    "#plt = plt + geom_smooth(method = 'lm')\n",
    "print(plt)"
   ]
  },
  {
   "cell_type": "code",
   "execution_count": 151,
   "metadata": {},
   "outputs": [
    {
     "data": {
      "text/plain": [
       "\n",
       "\tPearson's product-moment correlation\n",
       "\n",
       "data:  c$overlap and c$stability\n",
       "t = 10.93, df = 28, p-value = 1.306e-11\n",
       "alternative hypothesis: true correlation is not equal to 0\n",
       "95 percent confidence interval:\n",
       " 0.7988229 0.9517216\n",
       "sample estimates:\n",
       "      cor \n",
       "0.9000621 \n"
      ]
     },
     "metadata": {},
     "output_type": "display_data"
    }
   ],
   "source": [
    "cor.test(c$overlap, c$stability)"
   ]
  },
  {
   "cell_type": "code",
   "execution_count": 152,
   "metadata": {},
   "outputs": [],
   "source": [
    "d = subset(c, taxa == \"Trees\")"
   ]
  },
  {
   "cell_type": "code",
   "execution_count": 153,
   "metadata": {
    "scrolled": true
   },
   "outputs": [
    {
     "data": {
      "text/plain": [
       "\n",
       "\tPearson's product-moment correlation\n",
       "\n",
       "data:  d$overlap and d$stability\n",
       "t = 3.8153, df = 7, p-value = 0.006583\n",
       "alternative hypothesis: true correlation is not equal to 0\n",
       "95 percent confidence interval:\n",
       " 0.3469945 0.9612670\n",
       "sample estimates:\n",
       "      cor \n",
       "0.8217474 \n"
      ]
     },
     "metadata": {},
     "output_type": "display_data"
    }
   ],
   "source": [
    "cor.test(d$overlap, d$stability)"
   ]
  }
 ],
 "metadata": {
  "kernelspec": {
   "display_name": "R",
   "language": "R",
   "name": "ir"
  },
  "language_info": {
   "codemirror_mode": "r",
   "file_extension": ".r",
   "mimetype": "text/x-r-source",
   "name": "R",
   "pygments_lexer": "r",
   "version": "3.4.4"
  }
 },
 "nbformat": 4,
 "nbformat_minor": 2
}
