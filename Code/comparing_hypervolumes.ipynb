{
 "cells": [
  {
   "cell_type": "markdown",
   "metadata": {},
   "source": [
    "# TO DO!\n",
    "\n",
    "- figure out how to deal with the fact that data is not great!"
   ]
  },
  {
   "cell_type": "code",
   "execution_count": 11,
   "metadata": {
    "scrolled": true
   },
   "outputs": [
    {
     "name": "stdout",
     "output_type": "stream",
     "text": [
      "\n",
      " loading required packages\n",
      "\n"
     ]
    }
   ],
   "source": [
    "require(ggplot2)\n",
    "source(\"00_functions.R\")"
   ]
  },
  {
   "cell_type": "markdown",
   "metadata": {},
   "source": [
    "## read in data"
   ]
  },
  {
   "cell_type": "code",
   "execution_count": 12,
   "metadata": {},
   "outputs": [],
   "source": [
    "trees_df   = read.csv(\"../Results/trees_genus_matrix.csv\", row.names=1)\n",
    "mammals_df = read.csv(\"../Results/mammals_matrix.csv\", row.names=1)\n",
    "beetles_df = read.csv(\"../Results/beetles_matrix.csv\", row.names=1)"
   ]
  },
  {
   "cell_type": "code",
   "execution_count": 13,
   "metadata": {
    "scrolled": false
   },
   "outputs": [],
   "source": [
    "pca.rslt_trees   = do_pca(trees_df, scale = F, plot = F)\n",
    "pca.rslt_mammals = do_pca(mammals_df, scale = F, plot = F)\n",
    "pca.rslt_beetles = do_pca(beetles_df, scale = F, plot = F)\n",
    "\n",
    "# cat(\"Explained Varience Trees:\")\n",
    "# pca.rslt_trees@exp.var\n",
    "# cat(\"Explained Varience Mammals:\")\n",
    "# pca.rslt_mammals@exp.var\n",
    "# cat(\"Explained Varience Beetles:\")\n",
    "# pca.rslt_beetles@exp.var"
   ]
  },
  {
   "cell_type": "code",
   "execution_count": null,
   "metadata": {},
   "outputs": [
    {
     "name": "stdout",
     "output_type": "stream",
     "text": [
      "\n",
      "Building Hypervolume  36  of  36 :  Tower_c44\n",
      "Comparing Hypervolume  27  of  27 :  Tower_c3-c44\n",
      "\n",
      "Building Hypervolume  36  of  36 :  E100-2_c2017\n",
      "Comparing Hypervolume  30  of  30 :  E100-2_c2016-c2017\n"
     ]
    }
   ],
   "source": [
    "hvs_rslts_trees   = hvs_rslts(pca.rslt_trees@axis, axis = c(\"PC1\", \"PC2\", \"PC3\"), \"seq\")\n",
    "hvs_rslts_mammals = hvs_rslts(pca.rslt_mammals@axis, axis = c(\"PC1\", \"PC2\", \"PC3\"), \"seq\")\n",
    "hvs_rslts_beetles = hvs_rslts(pca.rslt_beetles@axis, axis = c(\"PC1\", \"PC2\", \"PC3\"), \"seq\")\n",
    "\n",
    "# cat(\"\\n\\n\")\n",
    "# cat(\"Trees: \",   sum(is.na(hvs.rslts_trees@rslts$centroid_PC1))/nrow(hvs.rslts_trees@rslts), \"\\n\")\n",
    "# cat(\"Mammals: \", sum(is.na(hvs.rslts_mammals@rslts$centroid_PC1))/nrow(hvs.rslts_mammals@rslts), \"\\n\")\n",
    "# cat(\"Beetles: \", sum(is.na(hvs.rslts_beetles@rslts$centroid_PC1))/nrow(hvs.rslts_beetles@rslts))"
   ]
  },
  {
   "cell_type": "code",
   "execution_count": null,
   "metadata": {
    "scrolled": false
   },
   "outputs": [],
   "source": [
    "plot_hvs(hvs_rslts_trees)"
   ]
  },
  {
   "cell_type": "code",
   "execution_count": null,
   "metadata": {
    "scrolled": false
   },
   "outputs": [],
   "source": [
    "hvs_rslts_beetles@compare[order(hvs_rslts_beetles@compare$overlap), ]"
   ]
  },
  {
   "cell_type": "code",
   "execution_count": null,
   "metadata": {},
   "outputs": [],
   "source": [
    "beetles = data.frame(group = \"beetles\", overlap = hvs_rslts_beetles@compare$overlap)\n",
    "trees   = data.frame(group = \"trees\", overlap = hvs_rslts_trees@compare$overlap)\n",
    "mammals = data.frame(group = \"mammals\", overlap = hvs_rslts_mammals@compare$overlap)\n",
    "\n",
    "whisker = rbind(beetles, trees, mammals)\n",
    "whisker = whisker[complete.cases(whisker), ]"
   ]
  },
  {
   "cell_type": "code",
   "execution_count": null,
   "metadata": {},
   "outputs": [],
   "source": [
    "ggplot(data = whisker, aes(x = group, y = overlap, color = group)) + geom_boxplot() + geom_jitter()"
   ]
  },
  {
   "cell_type": "markdown",
   "metadata": {},
   "source": [
    "## model???!!!"
   ]
  },
  {
   "cell_type": "code",
   "execution_count": 9,
   "metadata": {},
   "outputs": [],
   "source": [
    "attributes <- read.csv(\"../Results/trees_sorted.csv\")\n",
    "a = as.data.frame(attributes %>% group_by(plot_c) %>% summarise(stem_C = sum(stem_C)))\n",
    "\n",
    "hvs_rslts_trees@rslts   = merge(hvs_rslts_trees@rslts, a, by = \"plot_c\", all.x = T)\n",
    "# need to figure out compare - maybe do change in AGB too?\n",
    "# hvs_rslts_trees@compare = merge(hvs_rslts_trees@compare, a, by = \"plot_c\", all.x = T)"
   ]
  },
  {
   "cell_type": "code",
   "execution_count": 10,
   "metadata": {},
   "outputs": [
    {
     "data": {
      "text/plain": [
       "\n",
       "Call:\n",
       "lm(formula = centroid_PC1 ~ stem_C * census, data = df)\n",
       "\n",
       "Residuals:\n",
       "    Min      1Q  Median      3Q     Max \n",
       "-0.6518 -0.4126 -0.2036  0.3720  1.0688 \n",
       "\n",
       "Coefficients:\n",
       "                  Estimate Std. Error t value Pr(>|t|)  \n",
       "(Intercept)      7.510e-01  3.522e-01   2.132   0.0444 *\n",
       "stem_C          -6.318e-06  2.470e-06  -2.558   0.0179 *\n",
       "censusc2         1.625e-01  5.039e-01   0.323   0.7501  \n",
       "censusc3         1.030e-01  5.111e-01   0.202   0.8422  \n",
       "censusc4        -8.221e-02  7.768e-01  -0.106   0.9167  \n",
       "stem_C:censusc2 -5.197e-07  3.458e-06  -0.150   0.8819  \n",
       "stem_C:censusc3  5.730e-07  3.589e-06   0.160   0.8746  \n",
       "stem_C:censusc4  5.119e-07  1.121e-05   0.046   0.9640  \n",
       "---\n",
       "Signif. codes:  0 ‘***’ 0.001 ‘**’ 0.01 ‘*’ 0.05 ‘.’ 0.1 ‘ ’ 1\n",
       "\n",
       "Residual standard error: 0.6109 on 22 degrees of freedom\n",
       "  (6 observations deleted due to missingness)\n",
       "Multiple R-squared:  0.4853,\tAdjusted R-squared:  0.3216 \n",
       "F-statistic: 2.964 on 7 and 22 DF,  p-value: 0.02395\n"
      ]
     },
     "metadata": {},
     "output_type": "display_data"
    }
   ],
   "source": []
  },
  {
   "cell_type": "code",
   "execution_count": null,
   "metadata": {},
   "outputs": [],
   "source": []
  }
 ],
 "metadata": {
  "kernelspec": {
   "display_name": "R",
   "language": "R",
   "name": "ir"
  },
  "language_info": {
   "codemirror_mode": "r",
   "file_extension": ".r",
   "mimetype": "text/x-r-source",
   "name": "R",
   "pygments_lexer": "r",
   "version": "3.4.4"
  }
 },
 "nbformat": 4,
 "nbformat_minor": 2
}
