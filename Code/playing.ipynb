{
 "cells": [
  {
   "cell_type": "markdown",
   "metadata": {},
   "source": [
    "# TO DO!\n",
    "\n",
    "- add a comparisons df!\n",
    "- figure out how to deal with the fact that data is not great!"
   ]
  },
  {
   "cell_type": "markdown",
   "metadata": {},
   "source": [
    "## required packages"
   ]
  },
  {
   "cell_type": "code",
   "execution_count": 1,
   "metadata": {},
   "outputs": [
    {
     "name": "stderr",
     "output_type": "stream",
     "text": [
      "Loading required package: vegan\n",
      "Loading required package: permute\n",
      "Loading required package: lattice\n",
      "This is vegan 2.5-2\n",
      "Loading required package: hypervolume\n",
      "Loading required package: Rcpp\n",
      "Loading required package: rgl\n",
      "Warning message in rgl.init(initValue, onlyNULL):\n",
      "“RGL: unable to open X11 display”Warning message:\n",
      "“'rgl_init' failed, running with rgl.useNULL = TRUE”Loading required package: dplyr\n",
      "\n",
      "Attaching package: ‘dplyr’\n",
      "\n",
      "The following objects are masked from ‘package:stats’:\n",
      "\n",
      "    filter, lag\n",
      "\n",
      "The following objects are masked from ‘package:base’:\n",
      "\n",
      "    intersect, setdiff, setequal, union\n",
      "\n",
      "Loading required package: ggplot2\n"
     ]
    }
   ],
   "source": [
    "require(vegan)\n",
    "require(hypervolume)\n",
    "require(dplyr)\n",
    "require(ggplot2)\n",
    "source(\"00_hv_functions.R\")"
   ]
  },
  {
   "cell_type": "markdown",
   "metadata": {},
   "source": [
    "## read in data"
   ]
  },
  {
   "cell_type": "code",
   "execution_count": 2,
   "metadata": {},
   "outputs": [],
   "source": [
    "#trees_df   = read.csv(\"../Results/trees_family_matrix.csv\", row.names=1)\n",
    "trees_df   = read.csv(\"../Results/trees_genus_matrix.csv\", row.names=1)\n",
    "#trees_df   = read.csv(\"../Results/trees_matrix.csv\", row.names=1)\n",
    "\n",
    "mammals_df = read.csv(\"../Results/mammals_matrix.csv\", row.names=1)\n",
    "\n",
    "beetles_df = read.csv(\"../Results/beetles_matrix.csv\", row.names=1)"
   ]
  },
  {
   "cell_type": "markdown",
   "metadata": {},
   "source": [
    "## pca function\n",
    "\n",
    "- do I want to do relative abundance?\n",
    "    - my thought is no as absolute numbers matter in the analysis?\n",
    "- what about scale?\n",
    "    - yes because pca requires it?"
   ]
  },
  {
   "cell_type": "code",
   "execution_count": 3,
   "metadata": {},
   "outputs": [],
   "source": [
    "setClass(\"pca.out\", slots = c(tot.chi = \"numeric\",\n",
    "                              exp.var = \"numeric\",\n",
    "                              axis    = \"data.frame\",\n",
    "                              CA      = \"list\",\n",
    "                              Ybar    = \"matrix\",\n",
    "                              inertia = \"character\"))\n",
    "\n",
    "do_pca = function(df, scale = TRUE, plot = TRUE){\n",
    "    \n",
    "    # if i did want to do relative abundance?\n",
    "    # df = apply(df, 1, function(x) x/sum(x))\n",
    "\n",
    "    df.pca = rda(df, scale = scale)\n",
    "    \n",
    "    out = new(\"pca.out\", tot.chi = df.pca$tot.chi,\n",
    "                         exp.var = head(df.pca$CA$eig/df.pca$tot.chi, 10),\n",
    "                         axis    = as.data.frame(df.pca$CA$u),\n",
    "                         CA      = df.pca$CA,\n",
    "                         Ybar    = df.pca$Ybar,\n",
    "                         inertia = df.pca$inertia)\n",
    "    \n",
    "    out@axis$plot    = unlist(strsplit(rownames(out@axis), \"_\"))[ c(T,F,F)]\n",
    "    out@axis$subplot = unlist(strsplit(rownames(out@axis), \"_\"))[ c(F,T,F)]\n",
    "    out@axis$census  = unlist(strsplit(rownames(out@axis), \"_\"))[ c(F,F,T)]\n",
    "    \n",
    "    \n",
    "    if (plot == TRUE){\n",
    "        biplot(df.pca, scaling = -1)\n",
    "    }\n",
    "    \n",
    "    return(out)\n",
    "    \n",
    "}"
   ]
  },
  {
   "cell_type": "code",
   "execution_count": 37,
   "metadata": {
    "scrolled": false
   },
   "outputs": [
    {
     "name": "stdout",
     "output_type": "stream",
     "text": [
      "Explained Varience Trees:"
     ]
    },
    {
     "data": {
      "text/html": [
       "<dl class=dl-horizontal>\n",
       "\t<dt>PC1</dt>\n",
       "\t\t<dd>0.0237014862534549</dd>\n",
       "\t<dt>PC2</dt>\n",
       "\t\t<dd>0.0206875444171624</dd>\n",
       "\t<dt>PC3</dt>\n",
       "\t\t<dd>0.0200284344074734</dd>\n",
       "\t<dt>PC4</dt>\n",
       "\t\t<dd>0.0192434689571846</dd>\n",
       "\t<dt>PC5</dt>\n",
       "\t\t<dd>0.0185657535621489</dd>\n",
       "\t<dt>PC6</dt>\n",
       "\t\t<dd>0.0178806437409106</dd>\n",
       "\t<dt>PC7</dt>\n",
       "\t\t<dd>0.0168406356746856</dd>\n",
       "\t<dt>PC8</dt>\n",
       "\t\t<dd>0.016067113366404</dd>\n",
       "\t<dt>PC9</dt>\n",
       "\t\t<dd>0.0157957732912176</dd>\n",
       "\t<dt>PC10</dt>\n",
       "\t\t<dd>0.0149556325677019</dd>\n",
       "</dl>\n"
      ],
      "text/latex": [
       "\\begin{description*}\n",
       "\\item[PC1] 0.0237014862534549\n",
       "\\item[PC2] 0.0206875444171624\n",
       "\\item[PC3] 0.0200284344074734\n",
       "\\item[PC4] 0.0192434689571846\n",
       "\\item[PC5] 0.0185657535621489\n",
       "\\item[PC6] 0.0178806437409106\n",
       "\\item[PC7] 0.0168406356746856\n",
       "\\item[PC8] 0.016067113366404\n",
       "\\item[PC9] 0.0157957732912176\n",
       "\\item[PC10] 0.0149556325677019\n",
       "\\end{description*}\n"
      ],
      "text/markdown": [
       "PC1\n",
       ":   0.0237014862534549PC2\n",
       ":   0.0206875444171624PC3\n",
       ":   0.0200284344074734PC4\n",
       ":   0.0192434689571846PC5\n",
       ":   0.0185657535621489PC6\n",
       ":   0.0178806437409106PC7\n",
       ":   0.0168406356746856PC8\n",
       ":   0.016067113366404PC9\n",
       ":   0.0157957732912176PC10\n",
       ":   0.0149556325677019\n",
       "\n"
      ],
      "text/plain": [
       "       PC1        PC2        PC3        PC4        PC5        PC6        PC7 \n",
       "0.02370149 0.02068754 0.02002843 0.01924347 0.01856575 0.01788064 0.01684064 \n",
       "       PC8        PC9       PC10 \n",
       "0.01606711 0.01579577 0.01495563 "
      ]
     },
     "metadata": {},
     "output_type": "display_data"
    },
    {
     "name": "stdout",
     "output_type": "stream",
     "text": [
      "Explained Varience Mammals:"
     ]
    },
    {
     "data": {
      "text/html": [
       "<dl class=dl-horizontal>\n",
       "\t<dt>PC1</dt>\n",
       "\t\t<dd>0.41494883888027</dd>\n",
       "\t<dt>PC2</dt>\n",
       "\t\t<dd>0.214615671931668</dd>\n",
       "\t<dt>PC3</dt>\n",
       "\t\t<dd>0.0998994385225913</dd>\n",
       "\t<dt>PC4</dt>\n",
       "\t\t<dd>0.0733763136239536</dd>\n",
       "\t<dt>PC5</dt>\n",
       "\t\t<dd>0.0603959559403503</dd>\n",
       "\t<dt>PC6</dt>\n",
       "\t\t<dd>0.0323036849502121</dd>\n",
       "\t<dt>PC7</dt>\n",
       "\t\t<dd>0.0292539004287384</dd>\n",
       "\t<dt>PC8</dt>\n",
       "\t\t<dd>0.0190208052497904</dd>\n",
       "\t<dt>PC9</dt>\n",
       "\t\t<dd>0.0154313590717177</dd>\n",
       "\t<dt>PC10</dt>\n",
       "\t\t<dd>0.0122141027319583</dd>\n",
       "</dl>\n"
      ],
      "text/latex": [
       "\\begin{description*}\n",
       "\\item[PC1] 0.41494883888027\n",
       "\\item[PC2] 0.214615671931668\n",
       "\\item[PC3] 0.0998994385225913\n",
       "\\item[PC4] 0.0733763136239536\n",
       "\\item[PC5] 0.0603959559403503\n",
       "\\item[PC6] 0.0323036849502121\n",
       "\\item[PC7] 0.0292539004287384\n",
       "\\item[PC8] 0.0190208052497904\n",
       "\\item[PC9] 0.0154313590717177\n",
       "\\item[PC10] 0.0122141027319583\n",
       "\\end{description*}\n"
      ],
      "text/markdown": [
       "PC1\n",
       ":   0.41494883888027PC2\n",
       ":   0.214615671931668PC3\n",
       ":   0.0998994385225913PC4\n",
       ":   0.0733763136239536PC5\n",
       ":   0.0603959559403503PC6\n",
       ":   0.0323036849502121PC7\n",
       ":   0.0292539004287384PC8\n",
       ":   0.0190208052497904PC9\n",
       ":   0.0154313590717177PC10\n",
       ":   0.0122141027319583\n",
       "\n"
      ],
      "text/plain": [
       "       PC1        PC2        PC3        PC4        PC5        PC6        PC7 \n",
       "0.41494884 0.21461567 0.09989944 0.07337631 0.06039596 0.03230368 0.02925390 \n",
       "       PC8        PC9       PC10 \n",
       "0.01902081 0.01543136 0.01221410 "
      ]
     },
     "metadata": {},
     "output_type": "display_data"
    },
    {
     "name": "stdout",
     "output_type": "stream",
     "text": [
      "Explained Varience Beetles:"
     ]
    },
    {
     "data": {
      "text/html": [
       "<dl class=dl-horizontal>\n",
       "\t<dt>PC1</dt>\n",
       "\t\t<dd>0.875100936396704</dd>\n",
       "\t<dt>PC2</dt>\n",
       "\t\t<dd>0.0844253549516962</dd>\n",
       "\t<dt>PC3</dt>\n",
       "\t\t<dd>0.0180393577001812</dd>\n",
       "\t<dt>PC4</dt>\n",
       "\t\t<dd>0.00624227999358971</dd>\n",
       "\t<dt>PC5</dt>\n",
       "\t\t<dd>0.00481881736712006</dd>\n",
       "\t<dt>PC6</dt>\n",
       "\t\t<dd>0.00308643252155189</dd>\n",
       "\t<dt>PC7</dt>\n",
       "\t\t<dd>0.00225135959124635</dd>\n",
       "\t<dt>PC8</dt>\n",
       "\t\t<dd>0.00133912504701357</dd>\n",
       "\t<dt>PC9</dt>\n",
       "\t\t<dd>0.000782256500960515</dd>\n",
       "\t<dt>PC10</dt>\n",
       "\t\t<dd>0.000639583809446705</dd>\n",
       "</dl>\n"
      ],
      "text/latex": [
       "\\begin{description*}\n",
       "\\item[PC1] 0.875100936396704\n",
       "\\item[PC2] 0.0844253549516962\n",
       "\\item[PC3] 0.0180393577001812\n",
       "\\item[PC4] 0.00624227999358971\n",
       "\\item[PC5] 0.00481881736712006\n",
       "\\item[PC6] 0.00308643252155189\n",
       "\\item[PC7] 0.00225135959124635\n",
       "\\item[PC8] 0.00133912504701357\n",
       "\\item[PC9] 0.000782256500960515\n",
       "\\item[PC10] 0.000639583809446705\n",
       "\\end{description*}\n"
      ],
      "text/markdown": [
       "PC1\n",
       ":   0.875100936396704PC2\n",
       ":   0.0844253549516962PC3\n",
       ":   0.0180393577001812PC4\n",
       ":   0.00624227999358971PC5\n",
       ":   0.00481881736712006PC6\n",
       ":   0.00308643252155189PC7\n",
       ":   0.00225135959124635PC8\n",
       ":   0.00133912504701357PC9\n",
       ":   0.000782256500960515PC10\n",
       ":   0.000639583809446705\n",
       "\n"
      ],
      "text/plain": [
       "         PC1          PC2          PC3          PC4          PC5          PC6 \n",
       "0.8751009364 0.0844253550 0.0180393577 0.0062422800 0.0048188174 0.0030864325 \n",
       "         PC7          PC8          PC9         PC10 \n",
       "0.0022513596 0.0013391250 0.0007822565 0.0006395838 "
      ]
     },
     "metadata": {},
     "output_type": "display_data"
    }
   ],
   "source": [
    "pca.rslt_trees   = do_pca(trees_df, scale = F, plot = F)\n",
    "cat(\"Explained Varience Trees:\")\n",
    "pca.rslt_trees@exp.var\n",
    "\n",
    "pca.rslt_mammals = do_pca(mammals_df, scale = F, plot = F)\n",
    "cat(\"Explained Varience Mammals:\")\n",
    "pca.rslt_mammals@exp.var\n",
    "\n",
    "pca.rslt_beetles = do_pca(beetles_df, scale = F, plot = F)\n",
    "cat(\"Explained Varience Beetles:\")\n",
    "pca.rslt_beetles@exp.var"
   ]
  },
  {
   "cell_type": "markdown",
   "metadata": {},
   "source": [
    "## hypervolumes function"
   ]
  },
  {
   "cell_type": "code",
   "execution_count": 67,
   "metadata": {},
   "outputs": [],
   "source": [
    "setClass(\"hv.rslts\", slots = c(hvlist = \"list\",\n",
    "                               rslts  = \"data.frame\"))\n",
    "\n",
    "# function to make hypervolumes for all..\n",
    "hvs_rslts = function(df){\n",
    "    \n",
    "  names = c()\n",
    "  for (p in unique(df$plot)){ for (c in unique(df$census)){\n",
    "    names = c(names, paste0(p, \"_\", c))\n",
    "  }}\n",
    "\n",
    "  hvlist = list()\n",
    "    \n",
    "  rslts           = data.frame(matrix(NA, nrow = length(names), ncol = 12))\n",
    "  colnames(rslts) = c(\"plot\", \"census\", \"centroid_PC1\", \"centroid_PC2\",\n",
    "                    \"centroid_PC3\", \"volume\", \"PC1_l\", \"PC1_h\", \"PC2_l\",\n",
    "                    \"PC2_h\", \"PC3_l\", \"PC3_h\")\n",
    "  rownames(rslts) = names\n",
    "  rslts$plot_c = names\n",
    "       \n",
    "  for (i in names){                                                                                                                                                                                            \n",
    "\n",
    "    p = unlist(strsplit(i, \"_\"))[[1]]\n",
    "    c = unlist(strsplit(i, \"_\"))[[2]]\n",
    "      \n",
    "    tmp = subset(df, plot == p & census == c, select = c(\"PC1\", \"PC2\", \"PC3\"))\n",
    "    tmp = scale(tmp, center = T, scale = T)\n",
    "  \n",
    "    if (nrow(tmp) < 20){\n",
    "      hv = NA\n",
    "    } else{\n",
    "      hv = hypervolume_gaussian(tmp, name = i, verbose = FALSE)\n",
    "    }\n",
    "    \n",
    "    hvlist[[i]] = hv\n",
    "      \n",
    "    rslts[i, \"plot\"]     = unlist(strsplit(i, \"_\"))[1]\n",
    "    rslts[i, \"census\"]   = unlist(strsplit(i, \"_\"))[2]\n",
    "\n",
    "    if (class(hv) == \"Hypervolume\"){\n",
    "\n",
    "      rslts[i, \"centroid_PC1\"] = get_centroid(hv)[1]\n",
    "      rslts[i, \"centroid_PC2\"] = get_centroid(hv)[2]\n",
    "      rslts[i, \"centroid_PC3\"] = get_centroid(hv)[3]\n",
    "\n",
    "      rslts[i, \"volume\"]       = hv@Volume\n",
    "\n",
    "      rslts[i, \"PC1_l\"]        = min(hv@RandomPoints[,1])\n",
    "      rslts[i, \"PC1_h\"]        = max(hv@RandomPoints[,1])\n",
    "      rslts[i, \"PC2_l\"]        = min(hv@RandomPoints[,2])\n",
    "      rslts[i, \"PC2_h\"]        = max(hv@RandomPoints[,2])\n",
    "      rslts[i, \"PC3_l\"]        = min(hv@RandomPoints[,3])\n",
    "      rslts[i, \"PC3_h\"]        = max(hv@RandomPoints[,3])\n",
    "\n",
    "    }     \n",
    "      \n",
    "  }\n",
    "  \n",
    "  out = new(\"hv.rslts\", hvlist = hvlist, rslts = rslts)\n",
    "    \n",
    "  return(out)\n",
    "}                              "
   ]
  },
  {
   "cell_type": "code",
   "execution_count": 68,
   "metadata": {},
   "outputs": [
    {
     "name": "stdout",
     "output_type": "stream",
     "text": [
      "Trees:  0.1666667 \n",
      "Mammals:  1 \n",
      "Beetles:  0.3833333"
     ]
    }
   ],
   "source": [
    "hvs.rslts_trees   = hvs_rslts(pca.rslt_trees@axis)\n",
    "hvs.rslts_mammals = hvs_rslts(pca.rslt_mammals@axis)\n",
    "hvs.rslts_beetles = hvs_rslts(pca.rslt_beetles@axis)\n",
    "\n",
    "cat(\"Trees: \",   sum(is.na(hvs.rslts_trees@rslts$centroid_PC1))/nrow(hvs.rslts_trees@rslts), \"\\n\")\n",
    "cat(\"Mammals: \", sum(is.na(hvs.rslts_mammals@rslts$centroid_PC1))/nrow(hvs.rslts_mammals@rslts), \"\\n\")\n",
    "cat(\"Beetles: \", sum(is.na(hvs.rslts_beetles@rslts$centroid_PC1))/nrow(hvs.rslts_beetles@rslts))"
   ]
  },
  {
   "cell_type": "markdown",
   "metadata": {},
   "source": []
  },
  {
   "cell_type": "code",
   "execution_count": null,
   "metadata": {},
   "outputs": [],
   "source": []
  },
  {
   "cell_type": "code",
   "execution_count": null,
   "metadata": {},
   "outputs": [],
   "source": []
  },
  {
   "cell_type": "code",
   "execution_count": null,
   "metadata": {},
   "outputs": [],
   "source": [
    "attributes <- read.csv(\"../Results/trees_sorted.csv\")\n",
    "a = as.data.frame(attributes %>% group_by(plot_c) %>% summarise(stem_C = sum(stem_C)))\n",
    "\n",
    "hvs.rslts@rslts = merge(hvs.rslts@rslts, a, by = \"plot_c\", all.x = T)"
   ]
  }
 ],
 "metadata": {
  "kernelspec": {
   "display_name": "R",
   "language": "R",
   "name": "ir"
  },
  "language_info": {
   "codemirror_mode": "r",
   "file_extension": ".r",
   "mimetype": "text/x-r-source",
   "name": "R",
   "pygments_lexer": "r",
   "version": "3.4.4"
  }
 },
 "nbformat": 4,
 "nbformat_minor": 2
}
