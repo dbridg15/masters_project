{
 "cells": [
  {
   "cell_type": "code",
   "execution_count": 35,
   "metadata": {},
   "outputs": [
    {
     "name": "stdout",
     "output_type": "stream",
     "text": [
      "\n",
      " loading required packages\n",
      "\n"
     ]
    }
   ],
   "source": [
    "source(\"00_functions.R\")\n",
    "require(ggplot2)"
   ]
  },
  {
   "cell_type": "code",
   "execution_count": 44,
   "metadata": {},
   "outputs": [],
   "source": [
    "standardise_time = function(df, axis, census_time){\n",
    "    \n",
    "    # select the axis that I want\n",
    "    df = df[, axis]\n",
    "\n",
    "    plts = unique(unlist(strsplit(rownames(df), \"_\"))[c(T, F, F)])\n",
    "\n",
    "    if (exists('out')){ rm(out) }\n",
    "        \n",
    "    for (plt in plts){\n",
    "    \n",
    "        tmp1 = df[which(unlist(strsplit(rownames(df), \"_\"))[c(T, F, F)] == plt), ]\n",
    "\n",
    "        splt = unique(unlist(strsplit(rownames(tmp1), \"_\"))[c(F, T, F)])\n",
    "        cens = sort(unique(unlist(strsplit(rownames(tmp1), \"_\"))[c(F, F, T)]))\n",
    "\n",
    "        raw = array(dim= c(length(splt), ncol(df), length(cens)),\n",
    "              dimnames = list(splt, axis, cens))\n",
    "\n",
    "        adj = raw\n",
    "\n",
    "        for (sp in splt){ for (cen in cens){\n",
    "            raw[sp, , cen] = unlist(tmp1[paste(plt, sp, cen, sep = \"_\"), ])\n",
    "        }}\n",
    "\n",
    "        adj[,,cens[1]] = raw[,,cens[1]]\n",
    "\n",
    "        for (c in 2:length(cens)){\n",
    "\n",
    "            mask = census_time$plot == plt & census_time$census == cens[c]\n",
    "\n",
    "        if (sum(mask) == 0) {\n",
    "            adj[ , , cens[c]] = NA\n",
    "        } else {\n",
    "            diff_yrs = census_time[mask, \"diff_yrs\"]\n",
    "            adj[,,cens[c]] = raw[,,cens[c-1]] + ((raw[,,cens[c]] - raw[,,cens[c-1]])*(1/diff_yrs)) \n",
    "        }}\n",
    "\n",
    "        adj = adply(adj, c(1, 3))\n",
    "\n",
    "        colnames(adj)[1:2] = c('subplot', 'census')\n",
    "        adj$plot      = plt\n",
    "        rownames(adj) = paste(adj$plot, adj$subplot, adj$census, sep = \"_\")\n",
    "\n",
    "        adj = adj[order(rownames(adj)), ]\n",
    "\n",
    "        adj = na.omit(adj)\n",
    "\n",
    "        if (exists('out')){\n",
    "            out = rbind(out, adj)\n",
    "        } else {\n",
    "            out = adj\n",
    "        }\n",
    "    }\n",
    "    return(out)\n",
    "}"
   ]
  },
  {
   "cell_type": "code",
   "execution_count": 45,
   "metadata": {},
   "outputs": [
    {
     "name": "stdout",
     "output_type": "stream",
     "text": [
      "Explained Varience Mammals:"
     ]
    },
    {
     "data": {
      "text/html": [
       "<dl class=dl-horizontal>\n",
       "\t<dt>PC1</dt>\n",
       "\t\t<dd>0.264406422810413</dd>\n",
       "\t<dt>PC2</dt>\n",
       "\t\t<dd>0.240313831607102</dd>\n",
       "\t<dt>PC3</dt>\n",
       "\t\t<dd>0.11338956123561</dd>\n",
       "</dl>\n"
      ],
      "text/latex": [
       "\\begin{description*}\n",
       "\\item[PC1] 0.264406422810413\n",
       "\\item[PC2] 0.240313831607102\n",
       "\\item[PC3] 0.11338956123561\n",
       "\\end{description*}\n"
      ],
      "text/markdown": [
       "PC1\n",
       ":   0.264406422810413PC2\n",
       ":   0.240313831607102PC3\n",
       ":   0.11338956123561\n",
       "\n"
      ],
      "text/plain": [
       "      PC1       PC2       PC3 \n",
       "0.2644064 0.2403138 0.1133896 "
      ]
     },
     "metadata": {},
     "output_type": "display_data"
    },
    {
     "name": "stdout",
     "output_type": "stream",
     "text": [
      "\n",
      "Building Hypervolume  28  of  28 :  O_2013\n",
      "Comparing Hypervolume 24  of  24 :  O_2016-2017\n"
     ]
    }
   ],
   "source": [
    "mamls_df = read.csv(\"../Results/m_trap-year.csv\", row.names=1)\n",
    "\n",
    "mamls_cen = read.csv(\"../Results/mammals_years_dates.csv\")\n",
    "\n",
    "pca.rslt_mamls  = do_pca(mamls_df, scale = F, plot = F)\n",
    "\n",
    "cat(\"Explained Varience Mammals:\")\n",
    "pca.rslt_mamls@exp.var[0:3]\n",
    "\n",
    "mamls = hvs_rslts(pca.rslt_mamls@axis, axis = c(\"PC1\", \"PC2\", \"PC3\"), what = \"seq\", census_time = mamls_cen)"
   ]
  },
  {
   "cell_type": "code",
   "execution_count": 47,
   "metadata": {},
   "outputs": [
    {
     "name": "stdout",
     "output_type": "stream",
     "text": [
      "Explained Varience Mammals:"
     ]
    },
    {
     "data": {
      "text/html": [
       "<dl class=dl-horizontal>\n",
       "\t<dt>PC1</dt>\n",
       "\t\t<dd>0.288925537240771</dd>\n",
       "\t<dt>PC2</dt>\n",
       "\t\t<dd>0.0565307861457417</dd>\n",
       "\t<dt>PC3</dt>\n",
       "\t\t<dd>0.0443815463623268</dd>\n",
       "</dl>\n"
      ],
      "text/latex": [
       "\\begin{description*}\n",
       "\\item[PC1] 0.288925537240771\n",
       "\\item[PC2] 0.0565307861457417\n",
       "\\item[PC3] 0.0443815463623268\n",
       "\\end{description*}\n"
      ],
      "text/markdown": [
       "PC1\n",
       ":   0.288925537240771PC2\n",
       ":   0.0565307861457417PC3\n",
       ":   0.0443815463623268\n",
       "\n"
      ],
      "text/plain": [
       "       PC1        PC2        PC3 \n",
       "0.28892554 0.05653079 0.04438155 "
      ]
     },
     "metadata": {},
     "output_type": "display_data"
    },
    {
     "name": "stdout",
     "output_type": "stream",
     "text": [
      "\n",
      "\r",
      "Building Hypervolume  01  of  36 :  BNorth_c1\r",
      "Building Hypervolume  02  of  36 :  BNorth_c2\r",
      "Building Hypervolume  03  of  36 :  BNorth_c3\r",
      "Building Hypervolume  04  of  36 :  BNorth_c4\r",
      "Building Hypervolume  05  of  36 :  BSouth_c1\r",
      "Building Hypervolume  06  of  36 :  BSouth_c2\r",
      "Building Hypervolume  07  of  36 :  BSouth_c3\r",
      "Building Hypervolume  08  of  36 :  BSouth_c4\r",
      "Building Hypervolume  09  of  36 :  Belian_c1\r",
      "Building Hypervolume  10  of  36 :  Belian_c2\r",
      "Building Hypervolume  11  of  36 :  Belian_c3\r",
      "Building Hypervolume  12  of  36 :  Belian_c4\r",
      "Building Hypervolume  13  of  36 :  DC1_c1   \r",
      "Building Hypervolume  14  of  36 :  DC1_c2   \r",
      "Building Hypervolume  15  of  36 :  DC1_c3   \r",
      "Building Hypervolume  16  of  36 :  DC1_c4   \r",
      "Building Hypervolume  17  of  36 :  DC2_c1   \r",
      "Building Hypervolume  18  of  36 :  DC2_c2   \r",
      "Building Hypervolume  19  of  36 :  DC2_c3   \r",
      "Building Hypervolume  20  of  36 :  DC2_c4   \r",
      "Building Hypervolume  21  of  36 :  E_c1     \r",
      "Building Hypervolume  22  of  36 :  E_c2     \r",
      "Building Hypervolume  23  of  36 :  E_c3     \r",
      "Building Hypervolume  24  of  36 :  E_c4     \r",
      "Building Hypervolume  25  of  36 :  LF_c1    \r",
      "Building Hypervolume  26  of  36 :  LF_c2    \r",
      "Building Hypervolume  27  of  36 :  LF_c3    \r",
      "Building Hypervolume  28  of  36 :  LF_c4    \r",
      "Building Hypervolume  29  of  36 :  Seraya_c1\r",
      "Building Hypervolume  30  of  36 :  Seraya_c2\r",
      "Building Hypervolume  31  of  36 :  Seraya_c3\r",
      "Building Hypervolume  32  of  36 :  Seraya_c4\r",
      "Building Hypervolume  33  of  36 :  Tower_c1 \r",
      "Building Hypervolume  34  of  36 :  Tower_c2 \r",
      "Building Hypervolume  35  of  36 :  Tower_c3 \r",
      "Building Hypervolume  36  of  36 :  Tower_c4 \n",
      "\r",
      "Comparing Hypervolume 01  of  27 :  BNorth_c1-c2\r",
      "Comparing Hypervolume 02  of  27 :  BNorth_c2-c3\r",
      "Comparing Hypervolume 03  of  27 :  BNorth_c3-c4\r",
      "Comparing Hypervolume 04  of  27 :  BSouth_c1-c2\r",
      "Comparing Hypervolume 05  of  27 :  BSouth_c2-c3\r",
      "Comparing Hypervolume 06  of  27 :  BSouth_c3-c4\r",
      "Comparing Hypervolume 07  of  27 :  Belian_c1-c2\r",
      "Comparing Hypervolume 08  of  27 :  Belian_c2-c3\r",
      "Comparing Hypervolume 09  of  27 :  Belian_c3-c4\r",
      "Comparing Hypervolume 10  of  27 :  DC1_c1-c2   \r",
      "Comparing Hypervolume 11  of  27 :  DC1_c2-c3   \r",
      "Comparing Hypervolume 12  of  27 :  DC1_c3-c4   \r",
      "Comparing Hypervolume 13  of  27 :  DC2_c1-c2   \r",
      "Comparing Hypervolume 14  of  27 :  DC2_c2-c3   \r",
      "Comparing Hypervolume 15  of  27 :  DC2_c3-c4   \r",
      "Comparing Hypervolume 16  of  27 :  E_c1-c2     \r",
      "Comparing Hypervolume 17  of  27 :  E_c2-c3     \r",
      "Comparing Hypervolume 18  of  27 :  E_c3-c4     \r",
      "Comparing Hypervolume 19  of  27 :  LF_c1-c2    \r",
      "Comparing Hypervolume 20  of  27 :  LF_c2-c3    \r",
      "Comparing Hypervolume 21  of  27 :  LF_c3-c4    \r",
      "Comparing Hypervolume 22  of  27 :  Seraya_c1-c2\r",
      "Comparing Hypervolume 23  of  27 :  Seraya_c2-c3\r",
      "Comparing Hypervolume 24  of  27 :  Seraya_c3-c4\r",
      "Comparing Hypervolume 25  of  27 :  Tower_c1-c2 \r",
      "Comparing Hypervolume 26  of  27 :  Tower_c2-c3 \r",
      "Comparing Hypervolume 27  of  27 :  Tower_c3-c4 \n"
     ]
    }
   ],
   "source": [
    "trees_df = read.csv(\"../Results/trees_matrix.csv\", row.names=1)\n",
    "\n",
    "trees_cen = read.csv(\"../Results/trees_census_dates.csv\")\n",
    "\n",
    "pca.rslt_trees  = do_pca(trees_df, scale = F, plot = F)\n",
    "\n",
    "cat(\"Explained Varience Mammals:\")\n",
    "pca.rslt_trees@exp.var[0:3]\n",
    "\n",
    "trees = hvs_rslts(pca.rslt_trees@axis, axis = c(\"PC1\", \"PC2\", \"PC3\"), what = \"seq\", census_time = trees_cen)"
   ]
  },
  {
   "cell_type": "code",
   "execution_count": null,
   "metadata": {},
   "outputs": [],
   "source": [
    "plot_hvs(trees)"
   ]
  },
  {
   "cell_type": "code",
   "execution_count": null,
   "metadata": {},
   "outputs": [],
   "source": []
  },
  {
   "cell_type": "code",
   "execution_count": null,
   "metadata": {},
   "outputs": [],
   "source": []
  }
 ],
 "metadata": {
  "kernelspec": {
   "display_name": "R",
   "language": "R",
   "name": "ir"
  },
  "language_info": {
   "codemirror_mode": "r",
   "file_extension": ".r",
   "mimetype": "text/x-r-source",
   "name": "R",
   "pygments_lexer": "r",
   "version": "3.4.4"
  }
 },
 "nbformat": 4,
 "nbformat_minor": 2
}
