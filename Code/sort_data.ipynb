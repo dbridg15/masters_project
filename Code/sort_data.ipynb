{
 "cells": [
  {
   "cell_type": "markdown",
   "metadata": {},
   "source": [
    "# Sort Data"
   ]
  },
  {
   "cell_type": "markdown",
   "metadata": {},
   "source": [
    "## imports"
   ]
  },
  {
   "cell_type": "code",
   "execution_count": 1,
   "metadata": {},
   "outputs": [],
   "source": [
    "import pandas as pd\n",
    "import numpy  as np\n",
    "import json\n",
    "\n",
    "from geopy.distance import geodesic"
   ]
  },
  {
   "cell_type": "code",
   "execution_count": 2,
   "metadata": {},
   "outputs": [],
   "source": [
    "def census_diff(df):\n",
    "\n",
    "    grp = df.groupby([\"plot\",  \"census\"])\n",
    "    cen = grp.date.agg(['min', 'max'])\n",
    "    cen[\"mid\"] = (cen[\"min\"] + (cen[\"max\"] - cen[\"min\"])/2).dt.date\n",
    "    cen[\"difference\"] = cen[\"mid\"].diff().astype('timedelta64[D]')\n",
    "    cen.loc[cen[\"difference\"] < 0 , \"difference\"] = np.NAN\n",
    "    cen[\"diff_yrs\"] = cen.difference/365\n",
    "\n",
    "    cen.reset_index(level=0, inplace=True)\n",
    "    cen.reset_index(level=0, inplace=True)\n",
    "\n",
    "    cen.census.astype(str)\n",
    "    cen[\"step\"] = cen.census.astype(str).shift() + \"-\" + cen.census.astype(str)\n",
    "    cen.loc[cen[\"difference\"].isnull(), \"step\"] = np.NaN\n",
    "    cen.index = cen['plot'] + \"_\" + cen['step']\n",
    "\n",
    "    return cen\n"
   ]
  },
  {
   "cell_type": "markdown",
   "metadata": {},
   "source": [
    "### plot locations and fractal nesting"
   ]
  },
  {
   "cell_type": "code",
   "execution_count": 3,
   "metadata": {},
   "outputs": [],
   "source": [
    "# open plot locations\n",
    "with open('../Data/rows.geojson') as f:\n",
    "    data = json.load(f)\n",
    "\n",
    "properties = pd.DataFrame()\n",
    "\n",
    "# add each line of geojson file to dataframe\n",
    "for i in range(0, len(data['features'])):\n",
    "    properties = properties.append(pd.DataFrame(data['features'][i]['properties'], index = [i]))\n",
    "\n",
    "# only really care about these columns\n",
    "properties = properties.loc[: , [\"plot_size\",\n",
    "                                 \"centroid_y\",\n",
    "                                 \"centroid_x\",\n",
    "                                 \"fractal_order\",\n",
    "                                 \"location\"]]\n",
    "\n",
    "properties.rename(columns={'centroid_y':'longitude', 'centroid_x':'latitude'}, inplace=True)\n",
    "properties[\"longlat\"] = properties.apply(lambda x: [x.longitude, x.latitude], axis=1)\n",
    "\n",
    "# seperate dataframe for only second order fractal points\n",
    "second_order = properties.loc[properties.fractal_order == 2, : ]\n",
    "\n",
    "# function to find point closest to given point\n",
    "def closest(pt, others):\n",
    "    \n",
    "    clst_pt = min(others.longlat, key = lambda x: geodesic(pt, x).meters)\n",
    "        \n",
    "    return others.location.loc[others.longlat.apply(lambda x: x == clst_pt)].reset_index(drop = True)\n",
    "\n",
    "\n",
    "# fractal nesting and agb data\n",
    "fpn = pd.read_csv(\"../Data/Fractal_point_nesting.csv\")\n",
    "agb = pd.read_csv(\"../Data/AGB.csv\")\n",
    "\n",
    "# specific wanted columns - and rename ***(going with Chave moist)***\n",
    "agb = agb[[\"field_name\", \"Plot\", \"Date\", \"AGB_Chave_moist\", \"ForestQuality\"]]\n",
    "agb.columns = [\"field_name\", \"plot\", \"date\", \"agb\", \"forestquality\"]"
   ]
  },
  {
   "cell_type": "markdown",
   "metadata": {},
   "source": [
    "## Mammals"
   ]
  },
  {
   "cell_type": "markdown",
   "metadata": {},
   "source": [
    "### readin and sort raw data"
   ]
  },
  {
   "cell_type": "code",
   "execution_count": 37,
   "metadata": {},
   "outputs": [],
   "source": [
    "# readin data\n",
    "\n",
    "E  = pd.read_csv(\"../Data/small_mammals/E_2011-2016.csv\")\n",
    "F  = pd.read_csv(\"../Data/small_mammals/F_2011-2012.csv\")\n",
    "D  = pd.read_csv(\"../Data/small_mammals/D_2011-2016.csv\")\n",
    "OG = pd.read_csv(\"../Data/small_mammals/OG2_2011-2016.csv\")\n",
    "\n",
    "# sort and combine into one df\n",
    "def sort_mams(df):\n",
    "\n",
    "    # only need first 4 columns\n",
    "    df  = df.iloc[:, 0:4]\n",
    "\n",
    "    ncolnames = [\"occasion\", \"date\", \"trap\", \"species\"]\n",
    "\n",
    "    df.columns  = ncolnames\n",
    "\n",
    "    # stupid formatting sorted\n",
    "    df[\"occasion\"]  = df[\"occasion\"].str.replace(\"--\", \"-\")\n",
    "    df[\"trap\"]      = df[\"trap\"].str.replace(\"--\", \"-\")\n",
    "    df[\"trap\"]      = df.trap.apply(lambda x: x[:-1])\n",
    "    df[\"date\"]      = pd.to_datetime(df.date)\n",
    "    df[\"census\"]    = df.date.dt.year\n",
    "    df[\"subplot\"]   = df.trap.str.rpartition(\"-\")[0]\n",
    "    df[\"subplot\"]   = df.subplot.astype(\"category\").cat.codes\n",
    "    \n",
    "    return df\n",
    "\n",
    "E  = sort_mams(E)\n",
    "F  = sort_mams(F)\n",
    "D  = sort_mams(D)\n",
    "OG = sort_mams(OG)\n",
    "\n",
    "E[\"plot\"]  = \"E\"\n",
    "F[\"plot\"]  = \"F\"\n",
    "D[\"plot\"]  = \"D\"\n",
    "OG[\"plot\"] = \"OG\"\n",
    "\n",
    "frames = [E, F, D, OG]\n",
    "\n",
    "mamls_df = pd.concat(frames, sort = False)\n",
    "\n",
    "# species lookup and dealing with ? and unknowns\n",
    "m_lkup = pd.read_csv(\"../Data/small_mammals/mammals_lookup.csv\")\n",
    "m_lkup.columns = [\"code\", \"species\", \"scientific\"]\n",
    "\n",
    "mamls_df[\"species\"] = mamls_df.species.str.strip()\n",
    "\n",
    "# if its a questionmark - I just go with it\n",
    "# if its an either or I go with the first one!\n",
    "mamls_df.loc[mamls_df.loc[:, \"species\"] == \"CTRS-but see notes\", \"species\"] = \"CTRS\"\n",
    "\n",
    "mamls_df.loc[mamls_df.loc[:, \"species\"] == \"SS?\",          \"species\"] = \"SS\"\n",
    "mamls_df.loc[mamls_df.loc[:, \"species\"] == \"PR?\",          \"species\"] = \"PR\"\n",
    "mamls_df.loc[mamls_df.loc[:, \"species\"] == \"RR?\",          \"species\"] = \"RR\"\n",
    "mamls_df.loc[mamls_df.loc[:, \"species\"] == \"MR?\",          \"species\"] = \"MR\"\n",
    "mamls_df.loc[mamls_df.loc[:, \"species\"] == \"RS?\",          \"species\"] = \"RS\"\n",
    "mamls_df.loc[mamls_df.loc[:, \"species\"] == \"LGTRS?\",       \"species\"] = \"LGTRS\"\n",
    "mamls_df.loc[mamls_df.loc[:, \"species\"] == \"BS?\",          \"species\"] = \"BS\"\n",
    "mamls_df.loc[mamls_df.loc[:, \"species\"] == \"PSQ\",          \"species\"] = \"LSQ\"      # not confident on this\n",
    "mamls_df.loc[mamls_df.loc[:, \"species\"] == \"RS or SS\" ,    \"species\"] = \"RS\"\n",
    "mamls_df.loc[mamls_df.loc[:, \"species\"] == \"WH or SS\",     \"species\"] = \"WH\"\n",
    "mamls_df.loc[mamls_df.loc[:, \"species\"] == \"BS/RS?\",       \"species\"] = \"BS\"\n",
    "mamls_df.loc[mamls_df.loc[:, \"species\"] == \"PTSQ?\",        \"species\"] = \"PTSQ\"\n",
    "mamls_df.loc[mamls_df.loc[:, \"species\"] == \"LETRS\",        \"species\"] = \"LETRS?\"   # for some reason the lookup table has a ?\n",
    "mamls_df.loc[mamls_df.loc[:, \"species\"] == \"CBS?\",         \"species\"] = \"CBS\"\n",
    "mamls_df.loc[mamls_df.loc[:, \"species\"] == \"SL?TRS\",       \"species\"] = \"SLTRS\"\n",
    "mamls_df.loc[mamls_df.loc[:, \"species\"] == \"SLTRS?\",       \"species\"] = \"SLTRS\"\n",
    "mamls_df.loc[mamls_df.loc[:, \"species\"] == \"L?TRS\",        \"species\"] = \"SLTRS\"\n",
    "mamls_df.loc[mamls_df.loc[:, \"species\"] == \"LSQ?\",         \"species\"] = \"LSQ\"\n",
    "mamls_df.loc[mamls_df.loc[:, \"species\"] == \"LTRS or CTRS\", \"species\"] = \"CTRS\"     # went with CTRS as LTRS could refer to a couple\n",
    "mamls_df.loc[mamls_df.loc[:, \"species\"] == \"LTRS\",         \"species\"] = \"LETRS?\"   # not convinced about this one\n",
    "mamls_df.loc[mamls_df.loc[:, \"species\"] == \"Squirrel\",     \"species\"] = \"squirrel\"\n",
    "mamls_df.loc[mamls_df.loc[:, \"species\"] == \"squirrel\",     \"species\"] = \"unknown\"  # ***mmm?***\n",
    "mamls_df.loc[mamls_df.loc[:, \"species\"] == \"?\",            \"species\"] = \"unknown\"\n",
    "mamls_df.loc[mamls_df.loc[:, \"species\"] == \"Unknown\",      \"species\"] = \"unknown\"\n",
    "\n",
    "mamls_df = pd.merge(mamls_df,\n",
    "                    m_lkup[[\"code\", \"scientific\"]],\n",
    "                    how      = \"left\",\n",
    "                    left_on  = \"species\",\n",
    "                    right_on = \"code\")"
   ]
  },
  {
   "cell_type": "code",
   "execution_count": 41,
   "metadata": {},
   "outputs": [],
   "source": [
    "mamls_df = mamls_df.merge(properties[[\"location\", \"longlat\"]],\n",
    "                          how = \"left\", left_on = \"trap\", right_on = \"location\")\n",
    "\n",
    "mamls_df[\"SecondOrder\"] = mamls_df.longlat.apply(lambda x: closest(x, second_order))\n",
    "mamls_df.SecondOrder = mamls_df.SecondOrder.str.partition(\"_\")[2].astype(int)\n",
    "\n",
    "mamls_df = mamls_df.merge(agb[[\"plot\", \"agb\", \"forestquality\"]], how = \"left\",\n",
    "                          left_on = \"SecondOrder\", right_on = \"plot\")\n",
    "\n",
    "mamls_df = mamls_df[[\"occasion\",\n",
    "                     \"date\",\n",
    "                     \"trap\",\n",
    "                     \"subplot\",\n",
    "                     \"species\",\n",
    "                     \"plot_x\",\n",
    "                     \"census\",\n",
    "                     \"scientific\",\n",
    "                     \"longlat\",\n",
    "                     \"SecondOrder\",\n",
    "                     \"agb\",\n",
    "                     \"forestquality\"]]\n",
    "\n",
    "mamls_df = mamls_df.rename(index = str, columns={\"plot_x\" : \"plot\"})\n",
    "\n",
    "mamls_df[\"subplot\"] = mamls_df.subplot.apply(lambda x: str(x).zfill(2))\n",
    "\n",
    "mamls_df[\"plt_sub_cen\"] = mamls_df[\"plot\"] + \"_\" + mamls_df[\"subplot\"] + \"_c\" + mamls_df[\"census\"].astype(str)"
   ]
  },
  {
   "cell_type": "code",
   "execution_count": 16,
   "metadata": {},
   "outputs": [],
   "source": [
    "mamls_df.to_csv(\"../Results/mammals_sorted2.csv\")"
   ]
  },
  {
   "cell_type": "code",
   "execution_count": 21,
   "metadata": {},
   "outputs": [],
   "source": [
    "mamls_df[\"subplot\"] = mamls_df.subplot.apply(lambda x: str(x).zfill(2))\n",
    "mamls_df[\"plt_sub_cen\"] = mamls_df[\"plot\"] + \"_\" + mamls_df[\"subplot\"] + \"_c\" + mamls_df[\"census\"].astype(str)"
   ]
  },
  {
   "cell_type": "code",
   "execution_count": 22,
   "metadata": {},
   "outputs": [],
   "source": [
    "mamls_mx = mamls_df.groupby([\"plt_sub_cen\", \"species\"]).size().unstack()\n",
    "mamls_mx = mamls_mx.fillna(value = 0)\n",
    "mamls_mx.to_csv(\"../Results/mammals_matrix2.csv\")"
   ]
  },
  {
   "cell_type": "code",
   "execution_count": 11,
   "metadata": {},
   "outputs": [],
   "source": [
    "mamls_cen = census_diff(mamls_df)\n",
    "mamls_cen.to_csv(\"../Results/mammals_census_dates.csv\")"
   ]
  },
  {
   "cell_type": "markdown",
   "metadata": {},
   "source": [
    "## readin data"
   ]
  },
  {
   "cell_type": "code",
   "execution_count": 78,
   "metadata": {},
   "outputs": [],
   "source": [
    "trees_df = pd.read_csv(\"../Results/trees_sorted.csv\")\n",
    "mamls_df = pd.read_csv(\"../Results/mammals_sorted.csv\")\n",
    "btles_df = pd.read_csv(\"../Results/beetles_sorted.csv\")"
   ]
  },
  {
   "cell_type": "code",
   "execution_count": 79,
   "metadata": {},
   "outputs": [],
   "source": [
    "fpn[\"FirstOrder\"] = fpn.FirstOrder.str.partition(\"_\")[2].astype(int)\n",
    "\n",
    "fractals = fpn.loc[:, [\"FirstOrder\", \"SecondOrder\"]]"
   ]
  },
  {
   "cell_type": "markdown",
   "metadata": {},
   "source": [
    "## sort beetles (match to second order fragment)"
   ]
  },
  {
   "cell_type": "code",
   "execution_count": 80,
   "metadata": {
    "scrolled": true
   },
   "outputs": [],
   "source": [
    "btles_df = btles_df.merge(fractals, how = \"left\", left_on = \"trap_N\", right_on = \"FirstOrder\")\n",
    "btles_df[\"SecondOrder\"] = btles_df.SecondOrder.str.partition(\"_\")[2].astype(int)\n",
    "btles_df = btles_df.merge(agb[[\"Plot\", \"AGB_Chave_moist\", \"ForestQuality\"]], how = \"left\",\n",
    "                          left_on = \"SecondOrder\", right_on = \"Plot\")"
   ]
  },
  {
   "cell_type": "code",
   "execution_count": 120,
   "metadata": {},
   "outputs": [],
   "source": [
    "btles_agb = pd.DataFrame(btles_df.groupby(\"block\").AGB_Chave_moist.median())\n",
    "\n",
    "btles_agb.to_csv(\"../Results/btles_agb.csv\")"
   ]
  },
  {
   "cell_type": "markdown",
   "metadata": {},
   "source": [
    "## sort mammals"
   ]
  },
  {
   "cell_type": "code",
   "execution_count": 81,
   "metadata": {},
   "outputs": [],
   "source": [
    "mamls_df.Trap_ID = mamls_df.Trap_ID.apply(lambda x: x[:-1])\n",
    "mamls_df = mamls_df.merge(properties[[\"location\", \"longlat\"]],\n",
    "                          how = \"left\", left_on = \"Trap_ID\", right_on = \"location\")"
   ]
  },
  {
   "cell_type": "code",
   "execution_count": 82,
   "metadata": {},
   "outputs": [],
   "source": [
    "mamls_df[\"SecondOrder\"] = mamls_df.longlat.apply(lambda x: closest(x, SO))\n",
    "mamls_df.SecondOrder = mamls_df.SecondOrder.str.partition(\"_\")[2].astype(int)"
   ]
  },
  {
   "cell_type": "code",
   "execution_count": 83,
   "metadata": {},
   "outputs": [],
   "source": [
    "mamls_df = mamls_df.merge(agb[[\"Plot\", \"AGB_Chave_moist\", \"ForestQuality\"]], how = \"left\",\n",
    "                          left_on = \"SecondOrder\", right_on = \"Plot\")"
   ]
  },
  {
   "cell_type": "code",
   "execution_count": 128,
   "metadata": {},
   "outputs": [],
   "source": [
    "mamls_df[\"plot\"] = mamls_df.Trap_ID.str.rpartition(\"-\")[0]"
   ]
  },
  {
   "cell_type": "code",
   "execution_count": 160,
   "metadata": {},
   "outputs": [],
   "source": [
    "mamls_agb = pd.DataFrame(mamls_df.groupby(\"plot\").AGB_Chave_moist.median())\n",
    "mamls_agb.to_csv(\"../Results/mamls_agb.csv\")"
   ]
  },
  {
   "cell_type": "markdown",
   "metadata": {},
   "source": [
    "## sort trees"
   ]
  },
  {
   "cell_type": "code",
   "execution_count": 103,
   "metadata": {},
   "outputs": [],
   "source": [
    "trees_agb = pd.DataFrame(trees_df.groupby([\"plot\", \"census\"]).stem_C.sum())\n",
    "\n",
    "trees_agb = pd.DataFrame(trees_agb.groupby(\"plot\").mean()*  0.0625 * 0.001)\n",
    "\n",
    "trees_agb.to_csv(\"../Results/trees_agb.csv\")"
   ]
  },
  {
   "cell_type": "code",
   "execution_count": 112,
   "metadata": {},
   "outputs": [],
   "source": []
  },
  {
   "cell_type": "code",
   "execution_count": null,
   "metadata": {},
   "outputs": [],
   "source": []
  },
  {
   "cell_type": "code",
   "execution_count": null,
   "metadata": {},
   "outputs": [],
   "source": []
  }
 ],
 "metadata": {
  "kernelspec": {
   "display_name": "Python 3",
   "language": "python",
   "name": "python3"
  },
  "language_info": {
   "codemirror_mode": {
    "name": "ipython",
    "version": 3
   },
   "file_extension": ".py",
   "mimetype": "text/x-python",
   "name": "python",
   "nbconvert_exporter": "python",
   "pygments_lexer": "ipython3",
   "version": "3.6.5"
  }
 },
 "nbformat": 4,
 "nbformat_minor": 2
}
