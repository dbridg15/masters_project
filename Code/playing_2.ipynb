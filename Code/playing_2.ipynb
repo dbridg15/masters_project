{
 "cells": [
  {
   "cell_type": "markdown",
   "metadata": {},
   "source": [
    "## imports"
   ]
  },
  {
   "cell_type": "code",
   "execution_count": 74,
   "metadata": {},
   "outputs": [],
   "source": [
    "import pandas as pd\n",
    "import numpy  as np\n",
    "import json\n",
    "\n",
    "from geopy.distance import geodesic"
   ]
  },
  {
   "cell_type": "markdown",
   "metadata": {},
   "source": [
    "## readin locations data"
   ]
  },
  {
   "cell_type": "code",
   "execution_count": 75,
   "metadata": {},
   "outputs": [],
   "source": [
    "with open('../Data/rows.geojson') as f:\n",
    "    data = json.load(f)"
   ]
  },
  {
   "cell_type": "code",
   "execution_count": 76,
   "metadata": {},
   "outputs": [],
   "source": [
    "properties = pd.DataFrame()\n",
    "\n",
    "for i in range(0, len(data['features'])):\n",
    "    properties = properties.append(pd.DataFrame(data['features'][i]['properties'], index = [i]))\n",
    "\n",
    "properties = properties.loc[: , [\"plot_size\",\n",
    "                                 \"centroid_y\",\n",
    "                                 \"centroid_x\",\n",
    "                                 \"fractal_order\",\n",
    "                                 \"location\"]]\n",
    "\n",
    "properties.rename(columns={'centroid_y':'longitude', 'centroid_x':'latitude'}, inplace=True)\n",
    "properties[\"longlat\"] = properties.apply(lambda x: [x.longitude, x.latitude], axis=1)\n",
    "SO = properties.loc[properties.fractal_order == 2, : ]"
   ]
  },
  {
   "cell_type": "code",
   "execution_count": 77,
   "metadata": {},
   "outputs": [],
   "source": [
    "def closest(pt, others):\n",
    "    \n",
    "    clst_pt = min(others.longlat, key = lambda x: geodesic(pt, x).meters)\n",
    "        \n",
    "    return others.location.loc[others.longlat.apply(lambda x: x == clst_pt)].reset_index(drop = True)"
   ]
  },
  {
   "cell_type": "markdown",
   "metadata": {},
   "source": [
    "## readin data"
   ]
  },
  {
   "cell_type": "code",
   "execution_count": 78,
   "metadata": {},
   "outputs": [],
   "source": [
    "trees_df = pd.read_csv(\"../Results/trees_sorted.csv\")\n",
    "mamls_df = pd.read_csv(\"../Results/mammals_sorted.csv\")\n",
    "btles_df = pd.read_csv(\"../Results/beetles_sorted.csv\")\n",
    "\n",
    "fpn = pd.read_csv(\"../Data/Fractal_point_nesting.csv\")\n",
    "agb = pd.read_csv(\"../Data/AGB.csv\")"
   ]
  },
  {
   "cell_type": "code",
   "execution_count": 79,
   "metadata": {},
   "outputs": [],
   "source": [
    "fpn[\"FirstOrder\"] = fpn.FirstOrder.str.partition(\"_\")[2].astype(int)\n",
    "\n",
    "fractals = fpn.loc[:, [\"FirstOrder\", \"SecondOrder\"]]"
   ]
  },
  {
   "cell_type": "markdown",
   "metadata": {},
   "source": [
    "## sort beetles (match to second order fragment)"
   ]
  },
  {
   "cell_type": "code",
   "execution_count": 80,
   "metadata": {
    "scrolled": true
   },
   "outputs": [],
   "source": [
    "btles_df = btles_df.merge(fractals, how = \"left\", left_on = \"trap_N\", right_on = \"FirstOrder\")\n",
    "btles_df[\"SecondOrder\"] = btles_df.SecondOrder.str.partition(\"_\")[2].astype(int)\n",
    "btles_df = btles_df.merge(agb[[\"Plot\", \"AGB_Chave_moist\", \"ForestQuality\"]], how = \"left\",\n",
    "                          left_on = \"SecondOrder\", right_on = \"Plot\")"
   ]
  },
  {
   "cell_type": "code",
   "execution_count": 120,
   "metadata": {},
   "outputs": [],
   "source": [
    "btles_agb = pd.DataFrame(btles_df.groupby(\"block\").AGB_Chave_moist.median())\n",
    "\n",
    "btles_agb.to_csv(\"../Results/btles_agb.csv\")"
   ]
  },
  {
   "cell_type": "markdown",
   "metadata": {},
   "source": [
    "## sort mammals"
   ]
  },
  {
   "cell_type": "code",
   "execution_count": 81,
   "metadata": {},
   "outputs": [],
   "source": [
    "mamls_df.Trap_ID = mamls_df.Trap_ID.apply(lambda x: x[:-1])\n",
    "mamls_df = mamls_df.merge(properties[[\"location\", \"longlat\"]],\n",
    "                          how = \"left\", left_on = \"Trap_ID\", right_on = \"location\")"
   ]
  },
  {
   "cell_type": "code",
   "execution_count": 82,
   "metadata": {},
   "outputs": [],
   "source": [
    "mamls_df[\"SecondOrder\"] = mamls_df.longlat.apply(lambda x: closest(x, SO))\n",
    "mamls_df.SecondOrder = mamls_df.SecondOrder.str.partition(\"_\")[2].astype(int)"
   ]
  },
  {
   "cell_type": "code",
   "execution_count": 83,
   "metadata": {},
   "outputs": [],
   "source": [
    "mamls_df = mamls_df.merge(agb[[\"Plot\", \"AGB_Chave_moist\", \"ForestQuality\"]], how = \"left\",\n",
    "                          left_on = \"SecondOrder\", right_on = \"Plot\")"
   ]
  },
  {
   "cell_type": "code",
   "execution_count": 128,
   "metadata": {},
   "outputs": [],
   "source": [
    "mamls_df[\"plot\"] = mamls_df.Trap_ID.str.rpartition(\"-\")[0]"
   ]
  },
  {
   "cell_type": "code",
   "execution_count": 160,
   "metadata": {},
   "outputs": [],
   "source": [
    "mamls_agb = pd.DataFrame(mamls_df.groupby(\"plot\").AGB_Chave_moist.median())\n",
    "mamls_agb.to_csv(\"../Results/mamls_agb.csv\")"
   ]
  },
  {
   "cell_type": "markdown",
   "metadata": {},
   "source": [
    "## sort trees"
   ]
  },
  {
   "cell_type": "code",
   "execution_count": 103,
   "metadata": {},
   "outputs": [],
   "source": [
    "trees_agb = pd.DataFrame(trees_df.groupby([\"plot\", \"census\"]).stem_C.sum())"
   ]
  },
  {
   "cell_type": "code",
   "execution_count": 104,
   "metadata": {},
   "outputs": [],
   "source": [
    "trees_agb = pd.DataFrame(trees_agb.groupby(\"plot\").mean()*  0.0625 * 0.001)"
   ]
  },
  {
   "cell_type": "code",
   "execution_count": 114,
   "metadata": {},
   "outputs": [],
   "source": [
    "trees_agb.to_csv(\"../Results/trees_agb.csv\")"
   ]
  },
  {
   "cell_type": "code",
   "execution_count": 112,
   "metadata": {},
   "outputs": [],
   "source": []
  },
  {
   "cell_type": "code",
   "execution_count": null,
   "metadata": {},
   "outputs": [],
   "source": []
  },
  {
   "cell_type": "code",
   "execution_count": null,
   "metadata": {},
   "outputs": [],
   "source": []
  }
 ],
 "metadata": {
  "kernelspec": {
   "display_name": "Python 3",
   "language": "python",
   "name": "python3"
  },
  "language_info": {
   "codemirror_mode": {
    "name": "ipython",
    "version": 3
   },
   "file_extension": ".py",
   "mimetype": "text/x-python",
   "name": "python",
   "nbconvert_exporter": "python",
   "pygments_lexer": "ipython3",
   "version": "3.6.5"
  }
 },
 "nbformat": 4,
 "nbformat_minor": 2
}
